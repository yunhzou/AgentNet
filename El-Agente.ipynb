{
 "cells": [
  {
   "cell_type": "code",
   "execution_count": 1,
   "metadata": {},
   "outputs": [],
   "source": [
    "%load_ext autoreload\n",
    "%autoreload 2"
   ]
  },
  {
   "cell_type": "code",
   "execution_count": 2,
   "metadata": {},
   "outputs": [
    {
     "name": "stdout",
     "output_type": "stream",
     "text": [
      "Pinged your deployment. You successfully connected to MongoDB!\n"
     ]
    }
   ],
   "source": [
    "from AgentNet import AgentNetManager\n",
    "from AgentNet.Agent import load_ignore_patterns,generate_tree_structure,generate_ssh_grounding\n",
    "from AgentNet.config import python_ssh_client_mariana"
   ]
  },
  {
   "cell_type": "code",
   "execution_count": 3,
   "metadata": {},
   "outputs": [],
   "source": [
    "manager = AgentNetManager(project=\"El-Agente_V0_distill\")\n",
    "\n",
    "def update_grounding():\n",
    "    # Load the ignore patterns\n",
    "    ignore_patterns = load_ignore_patterns(\".ignore\")\n",
    "    # Generate the tree structure for the current directory\n",
    "    grounding = generate_tree_structure(\".\", ignore_patterns)\n",
    "    return grounding\n",
    "manager.add_grounding(grounding_context=\"Here are the files in your working directory\",grounding=update_grounding)\n",
    "model=\"gpt-4o\""
   ]
  },
  {
   "cell_type": "code",
   "execution_count": 3,
   "metadata": {},
   "outputs": [],
   "source": [
    "manager = AgentNetManager(project=\"El-Agente_V1\")\n",
    "\n",
    "def update_grounding():\n",
    "    # Load the ignore patterns\n",
    "    ignore_patterns = load_ignore_patterns(\".ignore\")\n",
    "    # Generate the tree structure for the current directory\n",
    "    local_grounding = generate_tree_structure(\".\", ignore_patterns)\n",
    "    virtual_grounding = generate_ssh_grounding(python_ssh_client_mariana)\n",
    "    grounding = \"###### Local Working Directory #####\\n\"+ local_grounding +\"\\n\" + \"###### Files Inside HPC #####\\n\" + virtual_grounding\n",
    "    return grounding\n",
    "\n",
    "\n",
    "manager.add_grounding(grounding_context=\"Here are the files in your working directory and HPC working directory\",grounding=update_grounding)\n",
    "model = \"gpt-4o\""
   ]
  },
  {
   "cell_type": "code",
   "execution_count": 4,
   "metadata": {},
   "outputs": [],
   "source": [
    "computational_chemist = manager.create_procedure_node(\n",
    "    \"computational_chemist\",\n",
    "    description=\"You are a computational chemist manager, Your employee will always stay truthful so you should never question them. You need do sent tasks to them to fulfill customer request that are send to you. Be very sensitive about what your employee gave back to you as the feedback will decide if the task if finished. For example, when customer said they want a molecule geometry being visualized, after your employee finished visualization, they will simply tell you the visualization has been done. You should acknowledge this fact and terminate the conversation as the customer request has been fullfilled\",\n",
    "    model=model\n",
    ")\n",
    "geometry_agent = manager.create_procedure_node(\n",
    "    \"geometry_agent\",\n",
    "    description=\"Responsible for geometry-related tasks, including initial structure generation, optimization and visualization. You should always generate, optimize and then visualize\",\n",
    "    model=model\n",
    ")\n",
    "geometry_generation_procedure = manager.create_procedure_node(\n",
    "    \"geometry_generation\",\n",
    "    description=\"Handles the initial geometry creation process and interfaces with tools like RDKit.\",\n",
    "    model=model\n",
    ")\n",
    "geometry_optimization_procedure = manager.create_procedure_node(\n",
    "    \"geometry_optimization\",\n",
    "    description=\"Optimizes molecular geometry, Use Xtb first and then use DFT to optimize the geometry.\",\n",
    "    model=model\n",
    ")\n",
    "geometry_visualization_procedure = manager.create_procedure_node(\n",
    "    \"geometry_visualization\",\n",
    "    description=\"Visualizes molecular geometry.\",\n",
    "    model=model\n",
    ")\n",
    "xtb_geometry_optimization_procedure = manager.create_procedure_node(\n",
    "    \"xtb_geometry_optimization\",\n",
    "    description=\"Handles optimization via xTB tools. You do not need to open the xyz file to inspect them. Usually the generated xyz file is correct.Always try first. Unless it fails, you don't need to inspect\",\n",
    "    model=model\n",
    ")"
   ]
  },
  {
   "cell_type": "code",
   "execution_count": 5,
   "metadata": {},
   "outputs": [],
   "source": [
    "tool_rdkit_xyz_generation = manager.create_tool_node(\n",
    "    \"rdkit_xyz_generation\",\n",
    "    description=\"Generates XYZ files from SMILES strings using RDKit for 3D structure generation. Take SMILES string as input.\"\n",
    ")\n",
    "tool_xtb_geometry_optimization = manager.create_tool_node(\n",
    "    \"xtb_geometry_optimization\",\n",
    "    description=\"Optimizes molecular geometry using xTB for fast, approximate quantum calculations. Take the path of the xyz file as input\"\n",
    ")\n",
    "tool_xyz_visualization = manager.create_tool_node(\n",
    "    \"visualize_xyz\",\n",
    "    description=\"Visualizes molecular geometry using RDKit. Take the path of the xyz file as input.\"\n",
    ")"
   ]
  },
  {
   "cell_type": "code",
   "execution_count": 6,
   "metadata": {},
   "outputs": [
    {
     "name": "stdout",
     "output_type": "stream",
     "text": [
      "Tool node label='hpc_shell' description='Execute shell command on HPC, can be used to run orca command as well as os operations for HPC files' entity=StructuredTool(name='hpc_shell', description='Execute shell command on the HPC.\\nThe environment has ORCA installed. \\nThe shell is already at working directory', args_schema=<class 'langchain_core.utils.pydantic.hpc_shell'>, func=<function hpc_shell at 0x000001B06AC8B4C0>) already exists\n",
      "Edge from_=AgentNetProcedureNode(label='DFT_Agent556ddd12-2322-4d73-99e9-73da6e387bbc', description='DFT_Agent takes the molecule SMILES/name and xyz file as input. It orchestrate a team to perform DFT calculation such as DFT geometry optimization and energy calculation. Note that you must transfer both xyz file and input file to HPC to run. To read any file, you must ask file manager to get the file from HPC to local computer in order to read it. Always read Output file to confirm execution as output file will store errors and results.', entity=<AgentNet.Agent.langgraph_react_agent_objective_output.LangGraphAgentReactExperimental object at 0x000001B06C6E1430>) to=AgentNetToolNode(label='hpc_shell', description='Execute shell command on HPC, can be used to run orca command as well as os operations for HPC files', entity=StructuredTool(name='hpc_shell', description='Execute shell command on the HPC.\\nThe environment has ORCA installed. \\nThe shell is already at working directory', args_schema=<class 'langchain_core.utils.pydantic.hpc_shell'>, func=<function hpc_shell at 0x000001B06AC8B4C0>)) already exists\n"
     ]
    },
    {
     "data": {
      "text/plain": [
       "AgentNetProcedureEdge(from_=AgentNetProcedureNode(label='DFT_Agent556ddd12-2322-4d73-99e9-73da6e387bbc', description='DFT_Agent takes the molecule SMILES/name and xyz file as input. It orchestrate a team to perform DFT calculation such as DFT geometry optimization and energy calculation. Note that you must transfer both xyz file and input file to HPC to run. To read any file, you must ask file manager to get the file from HPC to local computer in order to read it. Always read Output file to confirm execution as output file will store errors and results.', entity=<AgentNet.Agent.langgraph_react_agent_objective_output.LangGraphAgentReactExperimental object at 0x000001B06C6E1430>), to=AgentNetProcedureNode(label='ORCA_Runner', description='Run ORCA calculations on HPC. You will be given input file and you should generate shell command. Make sure it have output file. If it fails, you must immediately terminate. You should not debug yourself', entity=<AgentNet.Agent.langgraph_react_agent_objective_output.LangGraphAgentReactExperimental object at 0x000001B06C6E1550>))"
      ]
     },
     "execution_count": 6,
     "metadata": {},
     "output_type": "execute_result"
    }
   ],
   "source": [
    "python_ssh_client_mariana.connect()\n",
    "\n",
    "# DFT Agent\n",
    "DFT_Agent = manager.create_procedure_node(\"DFT_Agent556ddd12-2322-4d73-99e9-73da6e387bbc\", \n",
    "                                          description = \"\"\"DFT_Agent takes the molecule SMILES/name and xyz file as input. It orchestrate a team to perform DFT calculation such as DFT geometry optimization and energy calculation. Note that you must transfer both xyz file and input file to HPC to run. To read any file, you must ask file manager to get the file from HPC to local computer in order to read it. Always read Output file to confirm execution as output file will store errors and results.\"\"\",model=model)\n",
    "\n",
    "\n",
    "# Configuration Recommender\n",
    "\n",
    "basis_set_recommender = manager.create_procedure_node(\"Basis_Set_Recommender\", description = \"Recommend basis set for DFT calculations. Search for the basis set for this molecule\",model=model)\n",
    "functional_recommender = manager.create_procedure_node(\"Functional_Recommender\", description = \"Recommend functional for DFT calculations. Search for the functional for this molecule\",model=model)\n",
    "tool_websearch = manager.create_tool_node(\"perplexity_ai_search\", description=\"Provide detailed answers that answers questions based on accurate internet and scientific resources\")\n",
    "\n",
    "# Connect configuration -> basis set, functional. Connect basis set, functional -> tool_websearch\n",
    "manager.create_edge(from_=basis_set_recommender, to=tool_websearch)\n",
    "manager.create_edge(from_=functional_recommender, to=tool_websearch)\n",
    "\n",
    "tool_orca_proposal = manager.create_tool_node(\"orca_proposal\", description=\"Propose content of the ORCA input file. Input: configuration, xyz filename, objective for calculation.\")\n",
    "tool_python = manager.create_tool_node(\"python_repl\", description=\"Python Terminal that run python code\") \n",
    "\n",
    "# File Manger\n",
    "tool_send_file_to_hpc = manager.create_tool_node(\"send_file_to_hpc\", description=\"Send file to HPC working directory\")\n",
    "tool_send_file_to_local = manager.create_tool_node(\"send_file_to_local\", description=\"Send file from HPC to local directory\")\n",
    "tool_hpc_shell = manager.create_tool_node(\"hpc_shell\", description=\"Execute shell command on HPC, can be used to run orca command as well as os operations for HPC files\")\n",
    "tool_search_by_keyword = manager.create_tool_node(\"search_by_keywords\", description=\"Search for keyword in the file content,NOTE it only deal with local files\")\n",
    "tool_read_file_content = manager.create_tool_node(\"read_file_content\", description=\"Read the content of the file, NOTE it only deal with local files\")\n",
    "\n",
    "# ORCA Runner\n",
    "orca_runner = manager.create_procedure_node(\"ORCA_Runner\", description = \"Run ORCA calculations on HPC. You will be given input file and you should generate shell command. Make sure it have output file. If it fails, you must immediately terminate. You should not debug yourself\",model=model)\n",
    "tool_hpc_shell = manager.create_tool_node(\"hpc_shell\", description=\"Execute shell command on HPC, can be used to run orca command as well as os operations for HPC files\")\n",
    "# ORCA Runner -> HPC Shell\n",
    "manager.create_edge(from_=orca_runner, to=tool_hpc_shell)\n",
    "manager.create_edge(from_=DFT_Agent, to=basis_set_recommender)\n",
    "manager.create_edge(from_=DFT_Agent, to=functional_recommender)\n",
    "manager.create_edge(from_=DFT_Agent, to=tool_orca_proposal)\n",
    "manager.create_edge(from_=DFT_Agent, to=tool_python)\n",
    "manager.create_edge(from_=DFT_Agent, to=tool_send_file_to_hpc)\n",
    "manager.create_edge(from_=DFT_Agent, to=tool_send_file_to_local)\n",
    "manager.create_edge(from_=DFT_Agent, to=tool_hpc_shell)\n",
    "manager.create_edge(from_=DFT_Agent, to=tool_search_by_keyword)\n",
    "manager.create_edge(from_=DFT_Agent, to=tool_read_file_content)\n",
    "manager.create_edge(from_=DFT_Agent, to=tool_hpc_shell)\n",
    "manager.create_edge(from_=DFT_Agent, to=orca_runner)\n"
   ]
  },
  {
   "cell_type": "code",
   "execution_count": 6,
   "metadata": {},
   "outputs": [
    {
     "data": {
      "text/plain": [
       "AgentNetProcedureEdge(from_=AgentNetProcedureNode(label='geometry_visualization', description='Visualizes molecular geometry.', entity=<AgentNet.Agent.langgraph_react_agent_objective_output.LangGraphAgentReactExperimental object at 0x0000025B7E161610>), to=AgentNetToolNode(label='visualize_xyz', description='Visualizes molecular geometry using RDKit. Take the path of the xyz file as input.', entity=StructuredTool(name='visualize_xyz', description='Visualize a molecule from an XYZ file and show to the user.\\n\\nArgs:\\n    xyz_file_path (str): Path to the input XYZ file.', args_schema=<class 'langchain_core.utils.pydantic.visualize_xyz'>, func=<function visualize_xyz at 0x0000025B7D79B1A0>)))"
      ]
     },
     "execution_count": 6,
     "metadata": {},
     "output_type": "execute_result"
    }
   ],
   "source": [
    "manager.create_edge(from_=computational_chemist, to=geometry_agent)\n",
    "manager.create_edge(from_=geometry_agent, to=geometry_generation_procedure)\n",
    "manager.create_edge(from_=geometry_agent, to=geometry_optimization_procedure)\n",
    "manager.create_edge(from_=geometry_generation_procedure, to=tool_rdkit_xyz_generation)\n",
    "manager.create_edge(from_=geometry_optimization_procedure, to=xtb_geometry_optimization_procedure)\n",
    "manager.create_edge(from_=xtb_geometry_optimization_procedure, to=tool_xtb_geometry_optimization)\n",
    "manager.create_edge(from_=geometry_agent, to=geometry_visualization_procedure)\n",
    "manager.create_edge(from_=geometry_visualization_procedure, to=tool_xyz_visualization)\n",
    "\n",
    "# DFT\n",
    "# manager.create_edge(from_=computational_chemist, to=DFT_Agent)\n",
    "# manager.create_edge(from_=geometry_optimization_procedure, to=DFT_Agent)\n"
   ]
  },
  {
   "cell_type": "code",
   "execution_count": 7,
   "metadata": {},
   "outputs": [
    {
     "name": "stdout",
     "output_type": "stream",
     "text": [
      "Node computational_chemist connected\n",
      "Node geometry_agent connected\n",
      "Node geometry_generation connected\n",
      "Node geometry_optimization connected\n",
      "Node geometry_visualization connected\n",
      "Node xtb_geometry_optimization connected\n",
      "Compilation complete\n"
     ]
    }
   ],
   "source": [
    "manager.compile()"
   ]
  },
  {
   "cell_type": "code",
   "execution_count": 8,
   "metadata": {},
   "outputs": [
    {
     "name": "stdout",
     "output_type": "stream",
     "text": [
      "Agent:  computational_chemist\n",
      "Thought: I need to generate the initial structure of H2O before optimization., \n",
      " Action: objective: Generate initial structure of H2O, input_context: Molecule SMILES: O, output: Initial structure of H2O generated.,\n",
      " Terminate: False\n",
      "[geometry_agent] ...\n",
      "Thought: I need to generate the initial structure of H2O from its SMILES notation 'O'., \n",
      " Action: objective: Generate initial molecular geometry from SMILES notation, input_context: SMILES notation 'O' for H2O, output: Initial molecular geometry of H2O,\n",
      " Terminate: False\n",
      "[geometry_generation] ...\n",
      "Thought: I need to generate the 3D structure of water from the SMILES notation 'O'., \n",
      " Action: objective: Generate 3D molecular structure from SMILES notation, input_context: SMILES notation 'O' for water (H2O), output: 3D molecular structure in XYZ format,\n",
      " Terminate: False\n",
      "Generating XYZ file using RDKit...\n",
      "XYZ file has been generated and stored as rdkit_generated.xyz\n",
      "Deleted 6 documents from 'checkpoints' collection for thread_id 'ReACT_executor865d409a-4f34-4669-94c3-4b75c8f04e66'.\n",
      "Deleted 0 documents from 'checkpoint_writes' collection for thread_id 'ReACT_executor865d409a-4f34-4669-94c3-4b75c8f04e66'.\n",
      "Observation: The 3D molecular structure of water (H2O) has been generated from the SMILES notation 'O' and stored in the file `rdkit_generated.xyz`.\n",
      "Thought: The initial molecular geometry of water has been successfully generated., \n",
      " Action: message: objective achieved,\n",
      " Terminate: True\n",
      "Deleted 10 documents from 'checkpoints' collection for thread_id 'geometry_generation'.\n",
      "Deleted 8 documents from 'checkpoint_writes' collection for thread_id 'geometry_generation'.\n",
      "[geometry_generation] Finished!\n",
      "Deleted 6 documents from 'checkpoints' collection for thread_id 'ReACT_executor76fa8196-0f07-4e0b-b3cc-505bf900f184'.\n",
      "Deleted 0 documents from 'checkpoint_writes' collection for thread_id 'ReACT_executor76fa8196-0f07-4e0b-b3cc-505bf900f184'.\n",
      "Observation: The initial molecular geometry of water (H2O) has been successfully generated from the SMILES notation 'O'.\n",
      "Thought: I need to optimize the generated initial geometry of H2O using Xtb first., \n",
      " Action: objective: Optimize molecular geometry using Xtb, input_context: Initial molecular geometry of H2O is available and needs optimization using Xtb, output: Xtb optimized geometry of H2O,\n",
      " Terminate: False\n",
      "[geometry_optimization] ...\n",
      "Thought: I should use the xTB tool to optimize the geometry of the H2O molecule from its initial structure., \n",
      " Action: objective: Optimize the geometry of H2O using xTB, input_context: The initial structure of H2O is available and needs optimization using xTB, output: An optimized geometry of H2O,\n",
      " Terminate: False\n",
      "[xtb_geometry_optimization] ...\n",
      "Thought: I should use the rdkit_generated.xyz file for the initial structure of H2O as it is likely generated from the SMILES notation 'O'., \n",
      " Action: objective: Optimize the geometry of H2O using xTB, input_context: The initial structure of H2O is in the rdkit_generated.xyz file., output: An optimized molecular geometry file for H2O.,\n",
      " Terminate: False\n",
      "Running xTB geometry optimization...\n",
      "Success: Geometry optimization completed. Optimized file saved as xtb_optimized.xyz.\n",
      "Deleted 6 documents from 'checkpoints' collection for thread_id 'ReACT_executorac77a6bf-60c8-4eb4-b634-e675d454aa88'.\n",
      "Deleted 0 documents from 'checkpoint_writes' collection for thread_id 'ReACT_executorac77a6bf-60c8-4eb4-b634-e675d454aa88'.\n",
      "Observation: The geometry optimization of H2O using xTB has been completed successfully. The optimized molecular geometry file is saved as `xtb_optimized.xyz`.\n",
      "Thought: The geometry optimization of H2O using xTB has been successfully completed, and the optimized structure is saved., \n",
      " Action: message: objective achieved,\n",
      " Terminate: True\n",
      "Deleted 17 documents from 'checkpoints' collection for thread_id 'xtb_geometry_optimization'.\n",
      "Deleted 10 documents from 'checkpoint_writes' collection for thread_id 'xtb_geometry_optimization'.\n",
      "[xtb_geometry_optimization] Finished!\n",
      "Deleted 6 documents from 'checkpoints' collection for thread_id 'ReACT_executor8684e521-94e9-4133-90c4-ae45fdc52bb5'.\n",
      "Deleted 0 documents from 'checkpoint_writes' collection for thread_id 'ReACT_executor8684e521-94e9-4133-90c4-ae45fdc52bb5'.\n",
      "Observation: The geometry optimization of H2O using xTB has been successfully completed. The optimized molecular geometry is saved as `xtb_optimized.xyz`.\n",
      "Thought: The geometry optimization of H2O using xTB is complete and the optimized structure is available., \n",
      " Action: message: Objective achieved,\n",
      " Terminate: True\n",
      "Deleted 14 documents from 'checkpoints' collection for thread_id 'geometry_optimization'.\n",
      "Deleted 14 documents from 'checkpoint_writes' collection for thread_id 'geometry_optimization'.\n",
      "[geometry_optimization] Finished!\n",
      "Deleted 6 documents from 'checkpoints' collection for thread_id 'ReACT_executor76fa8196-0f07-4e0b-b3cc-505bf900f184'.\n",
      "Deleted 0 documents from 'checkpoint_writes' collection for thread_id 'ReACT_executor76fa8196-0f07-4e0b-b3cc-505bf900f184'.\n",
      "Observation: The geometry optimization of H2O using xTB has been successfully completed, and the optimized molecular geometry is saved as `xtb_optimized.xyz`.\n",
      "Thought: I need to further optimize the geometry of H2O using DFT after xTB optimization., \n",
      " Action: objective: Optimize molecular geometry using DFT, input_context: xTB optimized geometry of H2O is available in 'xtb_optimized.xyz' and needs further optimization using DFT, output: DFT optimized geometry of H2O,\n",
      " Terminate: False\n",
      "[geometry_optimization] ...\n",
      "Thought: I should perform a DFT optimization on the xTB optimized geometry of H2O., \n",
      " Action: objective: Perform a DFT optimization on the xTB optimized geometry, input_context: The xTB optimized geometry is available in the file 'xtb_optimized.xyz'., output: A DFT optimized geometry file of H2O.,\n",
      " Terminate: False\n",
      "Deleted 4 documents from 'checkpoints' collection for thread_id 'ReACT_executor8684e521-94e9-4133-90c4-ae45fdc52bb5'.\n",
      "Deleted 0 documents from 'checkpoint_writes' collection for thread_id 'ReACT_executor8684e521-94e9-4133-90c4-ae45fdc52bb5'.\n",
      "Observation: I cannot perform DFT optimizations. You may want to use a quantum chemistry software package like Gaussian, ORCA, or Quantum ESPRESSO to perform the DFT optimization.\n",
      "Thought: I cannot perform DFT optimizations myself., \n",
      " Action: message: I cannot perform DFT optimizations. You may want to use a quantum chemistry software package like Gaussian, ORCA, or Quantum ESPRESSO to perform the DFT optimization.,\n",
      " Terminate: True\n",
      "Deleted 7 documents from 'checkpoints' collection for thread_id 'geometry_optimization'.\n",
      "Deleted 2 documents from 'checkpoint_writes' collection for thread_id 'geometry_optimization'.\n",
      "[geometry_optimization] Finished!\n",
      "Deleted 6 documents from 'checkpoints' collection for thread_id 'ReACT_executor76fa8196-0f07-4e0b-b3cc-505bf900f184'.\n",
      "Deleted 0 documents from 'checkpoint_writes' collection for thread_id 'ReACT_executor76fa8196-0f07-4e0b-b3cc-505bf900f184'.\n",
      "Observation: I cannot perform DFT optimizations. You may want to use a quantum chemistry software package like Gaussian, ORCA, or Quantum ESPRESSO to perform the DFT optimization.\n",
      "Thought: I need to visualize the xTB optimized geometry of H2O since DFT optimization cannot be performed., \n",
      " Action: objective: Visualize molecular geometry, input_context: xTB optimized geometry of H2O is available in 'xtb_optimized.xyz', output: Visualization of the xTB optimized geometry of H2O,\n",
      " Terminate: False\n",
      "[geometry_visualization] ...\n",
      "Thought: I need to visualize the molecular geometry of H2O using the xTB optimized data from the file 'xtb_optimized.xyz'., \n",
      " Action: objective: Visualize the molecular geometry of H2O using RDKit., input_context: The path of the xyz file is 'xtb_optimized.xyz'., output: A visual representation of the molecular structure based on the xTB optimization results.,\n",
      " Terminate: False\n"
     ]
    },
    {
     "name": "stderr",
     "output_type": "stream",
     "text": [
      "INFO - Successfully read 3 atoms from xtb_optimized.xyz\n"
     ]
    },
    {
     "name": "stdout",
     "output_type": "stream",
     "text": [
      "Visualizing molecule from XYZ file...\n"
     ]
    },
    {
     "data": {
      "text/html": [
       "<pre style=\"white-space:pre;overflow-x:auto;line-height:normal;font-family:Menlo,'DejaVu Sans Mono',consolas,'Courier New',monospace\">04:02:53.307 | <span style=\"color: #008080; text-decoration-color: #008080\">INFO</span>    | xyz2graph - Successfully read 3 atoms from xtb_optimized.xyz\n",
       "</pre>\n"
      ],
      "text/plain": [
       "04:02:53.307 | \u001b[36mINFO\u001b[0m    | xyz2graph - Successfully read 3 atoms from xtb_optimized.xyz\n"
      ]
     },
     "metadata": {},
     "output_type": "display_data"
    },
    {
     "data": {
      "application/vnd.plotly.v1+json": {
       "config": {
        "plotlyServerURL": "https://plot.ly"
       },
       "data": [
        {
         "hoverinfo": "text",
         "hovertext": [
          "0. O (0.01, 0.38, 0.00)",
          "1. H (-0.78, -0.17, -0.00)",
          "2. H (0.77, -0.21, -0.00)"
         ],
         "marker": {
          "color": [
           "red",
           "white",
           "white"
          ],
          "line": {
           "color": "lightgray",
           "width": 2
          },
          "opacity": 0.8,
          "size": 7,
          "symbol": "circle"
         },
         "mode": "markers",
         "name": "atoms",
         "text": [
          "O",
          "H",
          "H"
         ],
         "type": "scatter3d",
         "x": [
          0.00837641693916,
          -0.77687694132024,
          0.76850052438107
         ],
         "y": [
          0.37877734263575,
          -0.17230116617263,
          -0.20647617646312
         ],
         "z": [
          0,
          0,
          0
         ]
        },
        {
         "hoverinfo": "none",
         "line": {
          "color": "grey",
          "width": 2
         },
         "mode": "lines",
         "name": "bonds",
         "type": "scatter3d",
         "x": [
          0.00837641693916,
          -0.77687694132024,
          null,
          0.00837641693916,
          0.76850052438107,
          null
         ],
         "y": [
          0.37877734263575,
          -0.17230116617263,
          null,
          0.37877734263575,
          -0.20647617646312,
          null
         ],
         "z": [
          0,
          0,
          null,
          0,
          0,
          null
         ]
        }
       ],
       "layout": {
        "margin": {
         "b": 0,
         "l": 0,
         "r": 0,
         "t": 0
        },
        "scene": {
         "annotations": [
          {
           "showarrow": false,
           "text": "O",
           "x": 0.00837641693916,
           "y": 0.37877734263575,
           "yshift": 15,
           "z": 0
          },
          {
           "showarrow": false,
           "text": "H",
           "x": -0.77687694132024,
           "y": -0.17230116617263,
           "yshift": 15,
           "z": 0
          },
          {
           "showarrow": false,
           "text": "H",
           "x": 0.76850052438107,
           "y": -0.20647617646312,
           "yshift": 15,
           "z": 0
          }
         ],
         "xaxis": {
          "showbackground": false,
          "showgrid": false,
          "showspikes": false,
          "showticklabels": false,
          "title": {
           "font": {
            "color": "white"
           }
          },
          "zeroline": false
         },
         "yaxis": {
          "showbackground": false,
          "showgrid": false,
          "showspikes": false,
          "showticklabels": false,
          "title": {
           "font": {
            "color": "white"
           }
          },
          "zeroline": false
         },
         "zaxis": {
          "showbackground": false,
          "showgrid": false,
          "showspikes": false,
          "showticklabels": false,
          "title": {
           "font": {
            "color": "white"
           }
          },
          "zeroline": false
         }
        },
        "showlegend": false,
        "template": {
         "data": {
          "bar": [
           {
            "error_x": {
             "color": "#2a3f5f"
            },
            "error_y": {
             "color": "#2a3f5f"
            },
            "marker": {
             "line": {
              "color": "#E5ECF6",
              "width": 0.5
             },
             "pattern": {
              "fillmode": "overlay",
              "size": 10,
              "solidity": 0.2
             }
            },
            "type": "bar"
           }
          ],
          "barpolar": [
           {
            "marker": {
             "line": {
              "color": "#E5ECF6",
              "width": 0.5
             },
             "pattern": {
              "fillmode": "overlay",
              "size": 10,
              "solidity": 0.2
             }
            },
            "type": "barpolar"
           }
          ],
          "carpet": [
           {
            "aaxis": {
             "endlinecolor": "#2a3f5f",
             "gridcolor": "white",
             "linecolor": "white",
             "minorgridcolor": "white",
             "startlinecolor": "#2a3f5f"
            },
            "baxis": {
             "endlinecolor": "#2a3f5f",
             "gridcolor": "white",
             "linecolor": "white",
             "minorgridcolor": "white",
             "startlinecolor": "#2a3f5f"
            },
            "type": "carpet"
           }
          ],
          "choropleth": [
           {
            "colorbar": {
             "outlinewidth": 0,
             "ticks": ""
            },
            "type": "choropleth"
           }
          ],
          "contour": [
           {
            "colorbar": {
             "outlinewidth": 0,
             "ticks": ""
            },
            "colorscale": [
             [
              0,
              "#0d0887"
             ],
             [
              0.1111111111111111,
              "#46039f"
             ],
             [
              0.2222222222222222,
              "#7201a8"
             ],
             [
              0.3333333333333333,
              "#9c179e"
             ],
             [
              0.4444444444444444,
              "#bd3786"
             ],
             [
              0.5555555555555556,
              "#d8576b"
             ],
             [
              0.6666666666666666,
              "#ed7953"
             ],
             [
              0.7777777777777778,
              "#fb9f3a"
             ],
             [
              0.8888888888888888,
              "#fdca26"
             ],
             [
              1,
              "#f0f921"
             ]
            ],
            "type": "contour"
           }
          ],
          "contourcarpet": [
           {
            "colorbar": {
             "outlinewidth": 0,
             "ticks": ""
            },
            "type": "contourcarpet"
           }
          ],
          "heatmap": [
           {
            "colorbar": {
             "outlinewidth": 0,
             "ticks": ""
            },
            "colorscale": [
             [
              0,
              "#0d0887"
             ],
             [
              0.1111111111111111,
              "#46039f"
             ],
             [
              0.2222222222222222,
              "#7201a8"
             ],
             [
              0.3333333333333333,
              "#9c179e"
             ],
             [
              0.4444444444444444,
              "#bd3786"
             ],
             [
              0.5555555555555556,
              "#d8576b"
             ],
             [
              0.6666666666666666,
              "#ed7953"
             ],
             [
              0.7777777777777778,
              "#fb9f3a"
             ],
             [
              0.8888888888888888,
              "#fdca26"
             ],
             [
              1,
              "#f0f921"
             ]
            ],
            "type": "heatmap"
           }
          ],
          "heatmapgl": [
           {
            "colorbar": {
             "outlinewidth": 0,
             "ticks": ""
            },
            "colorscale": [
             [
              0,
              "#0d0887"
             ],
             [
              0.1111111111111111,
              "#46039f"
             ],
             [
              0.2222222222222222,
              "#7201a8"
             ],
             [
              0.3333333333333333,
              "#9c179e"
             ],
             [
              0.4444444444444444,
              "#bd3786"
             ],
             [
              0.5555555555555556,
              "#d8576b"
             ],
             [
              0.6666666666666666,
              "#ed7953"
             ],
             [
              0.7777777777777778,
              "#fb9f3a"
             ],
             [
              0.8888888888888888,
              "#fdca26"
             ],
             [
              1,
              "#f0f921"
             ]
            ],
            "type": "heatmapgl"
           }
          ],
          "histogram": [
           {
            "marker": {
             "pattern": {
              "fillmode": "overlay",
              "size": 10,
              "solidity": 0.2
             }
            },
            "type": "histogram"
           }
          ],
          "histogram2d": [
           {
            "colorbar": {
             "outlinewidth": 0,
             "ticks": ""
            },
            "colorscale": [
             [
              0,
              "#0d0887"
             ],
             [
              0.1111111111111111,
              "#46039f"
             ],
             [
              0.2222222222222222,
              "#7201a8"
             ],
             [
              0.3333333333333333,
              "#9c179e"
             ],
             [
              0.4444444444444444,
              "#bd3786"
             ],
             [
              0.5555555555555556,
              "#d8576b"
             ],
             [
              0.6666666666666666,
              "#ed7953"
             ],
             [
              0.7777777777777778,
              "#fb9f3a"
             ],
             [
              0.8888888888888888,
              "#fdca26"
             ],
             [
              1,
              "#f0f921"
             ]
            ],
            "type": "histogram2d"
           }
          ],
          "histogram2dcontour": [
           {
            "colorbar": {
             "outlinewidth": 0,
             "ticks": ""
            },
            "colorscale": [
             [
              0,
              "#0d0887"
             ],
             [
              0.1111111111111111,
              "#46039f"
             ],
             [
              0.2222222222222222,
              "#7201a8"
             ],
             [
              0.3333333333333333,
              "#9c179e"
             ],
             [
              0.4444444444444444,
              "#bd3786"
             ],
             [
              0.5555555555555556,
              "#d8576b"
             ],
             [
              0.6666666666666666,
              "#ed7953"
             ],
             [
              0.7777777777777778,
              "#fb9f3a"
             ],
             [
              0.8888888888888888,
              "#fdca26"
             ],
             [
              1,
              "#f0f921"
             ]
            ],
            "type": "histogram2dcontour"
           }
          ],
          "mesh3d": [
           {
            "colorbar": {
             "outlinewidth": 0,
             "ticks": ""
            },
            "type": "mesh3d"
           }
          ],
          "parcoords": [
           {
            "line": {
             "colorbar": {
              "outlinewidth": 0,
              "ticks": ""
             }
            },
            "type": "parcoords"
           }
          ],
          "pie": [
           {
            "automargin": true,
            "type": "pie"
           }
          ],
          "scatter": [
           {
            "fillpattern": {
             "fillmode": "overlay",
             "size": 10,
             "solidity": 0.2
            },
            "type": "scatter"
           }
          ],
          "scatter3d": [
           {
            "line": {
             "colorbar": {
              "outlinewidth": 0,
              "ticks": ""
             }
            },
            "marker": {
             "colorbar": {
              "outlinewidth": 0,
              "ticks": ""
             }
            },
            "type": "scatter3d"
           }
          ],
          "scattercarpet": [
           {
            "marker": {
             "colorbar": {
              "outlinewidth": 0,
              "ticks": ""
             }
            },
            "type": "scattercarpet"
           }
          ],
          "scattergeo": [
           {
            "marker": {
             "colorbar": {
              "outlinewidth": 0,
              "ticks": ""
             }
            },
            "type": "scattergeo"
           }
          ],
          "scattergl": [
           {
            "marker": {
             "colorbar": {
              "outlinewidth": 0,
              "ticks": ""
             }
            },
            "type": "scattergl"
           }
          ],
          "scattermapbox": [
           {
            "marker": {
             "colorbar": {
              "outlinewidth": 0,
              "ticks": ""
             }
            },
            "type": "scattermapbox"
           }
          ],
          "scatterpolar": [
           {
            "marker": {
             "colorbar": {
              "outlinewidth": 0,
              "ticks": ""
             }
            },
            "type": "scatterpolar"
           }
          ],
          "scatterpolargl": [
           {
            "marker": {
             "colorbar": {
              "outlinewidth": 0,
              "ticks": ""
             }
            },
            "type": "scatterpolargl"
           }
          ],
          "scatterternary": [
           {
            "marker": {
             "colorbar": {
              "outlinewidth": 0,
              "ticks": ""
             }
            },
            "type": "scatterternary"
           }
          ],
          "surface": [
           {
            "colorbar": {
             "outlinewidth": 0,
             "ticks": ""
            },
            "colorscale": [
             [
              0,
              "#0d0887"
             ],
             [
              0.1111111111111111,
              "#46039f"
             ],
             [
              0.2222222222222222,
              "#7201a8"
             ],
             [
              0.3333333333333333,
              "#9c179e"
             ],
             [
              0.4444444444444444,
              "#bd3786"
             ],
             [
              0.5555555555555556,
              "#d8576b"
             ],
             [
              0.6666666666666666,
              "#ed7953"
             ],
             [
              0.7777777777777778,
              "#fb9f3a"
             ],
             [
              0.8888888888888888,
              "#fdca26"
             ],
             [
              1,
              "#f0f921"
             ]
            ],
            "type": "surface"
           }
          ],
          "table": [
           {
            "cells": {
             "fill": {
              "color": "#EBF0F8"
             },
             "line": {
              "color": "white"
             }
            },
            "header": {
             "fill": {
              "color": "#C8D4E3"
             },
             "line": {
              "color": "white"
             }
            },
            "type": "table"
           }
          ]
         },
         "layout": {
          "annotationdefaults": {
           "arrowcolor": "#2a3f5f",
           "arrowhead": 0,
           "arrowwidth": 1
          },
          "autotypenumbers": "strict",
          "coloraxis": {
           "colorbar": {
            "outlinewidth": 0,
            "ticks": ""
           }
          },
          "colorscale": {
           "diverging": [
            [
             0,
             "#8e0152"
            ],
            [
             0.1,
             "#c51b7d"
            ],
            [
             0.2,
             "#de77ae"
            ],
            [
             0.3,
             "#f1b6da"
            ],
            [
             0.4,
             "#fde0ef"
            ],
            [
             0.5,
             "#f7f7f7"
            ],
            [
             0.6,
             "#e6f5d0"
            ],
            [
             0.7,
             "#b8e186"
            ],
            [
             0.8,
             "#7fbc41"
            ],
            [
             0.9,
             "#4d9221"
            ],
            [
             1,
             "#276419"
            ]
           ],
           "sequential": [
            [
             0,
             "#0d0887"
            ],
            [
             0.1111111111111111,
             "#46039f"
            ],
            [
             0.2222222222222222,
             "#7201a8"
            ],
            [
             0.3333333333333333,
             "#9c179e"
            ],
            [
             0.4444444444444444,
             "#bd3786"
            ],
            [
             0.5555555555555556,
             "#d8576b"
            ],
            [
             0.6666666666666666,
             "#ed7953"
            ],
            [
             0.7777777777777778,
             "#fb9f3a"
            ],
            [
             0.8888888888888888,
             "#fdca26"
            ],
            [
             1,
             "#f0f921"
            ]
           ],
           "sequentialminus": [
            [
             0,
             "#0d0887"
            ],
            [
             0.1111111111111111,
             "#46039f"
            ],
            [
             0.2222222222222222,
             "#7201a8"
            ],
            [
             0.3333333333333333,
             "#9c179e"
            ],
            [
             0.4444444444444444,
             "#bd3786"
            ],
            [
             0.5555555555555556,
             "#d8576b"
            ],
            [
             0.6666666666666666,
             "#ed7953"
            ],
            [
             0.7777777777777778,
             "#fb9f3a"
            ],
            [
             0.8888888888888888,
             "#fdca26"
            ],
            [
             1,
             "#f0f921"
            ]
           ]
          },
          "colorway": [
           "#636efa",
           "#EF553B",
           "#00cc96",
           "#ab63fa",
           "#FFA15A",
           "#19d3f3",
           "#FF6692",
           "#B6E880",
           "#FF97FF",
           "#FECB52"
          ],
          "font": {
           "color": "#2a3f5f"
          },
          "geo": {
           "bgcolor": "white",
           "lakecolor": "white",
           "landcolor": "#E5ECF6",
           "showlakes": true,
           "showland": true,
           "subunitcolor": "white"
          },
          "hoverlabel": {
           "align": "left"
          },
          "hovermode": "closest",
          "mapbox": {
           "style": "light"
          },
          "paper_bgcolor": "white",
          "plot_bgcolor": "#E5ECF6",
          "polar": {
           "angularaxis": {
            "gridcolor": "white",
            "linecolor": "white",
            "ticks": ""
           },
           "bgcolor": "#E5ECF6",
           "radialaxis": {
            "gridcolor": "white",
            "linecolor": "white",
            "ticks": ""
           }
          },
          "scene": {
           "xaxis": {
            "backgroundcolor": "#E5ECF6",
            "gridcolor": "white",
            "gridwidth": 2,
            "linecolor": "white",
            "showbackground": true,
            "ticks": "",
            "zerolinecolor": "white"
           },
           "yaxis": {
            "backgroundcolor": "#E5ECF6",
            "gridcolor": "white",
            "gridwidth": 2,
            "linecolor": "white",
            "showbackground": true,
            "ticks": "",
            "zerolinecolor": "white"
           },
           "zaxis": {
            "backgroundcolor": "#E5ECF6",
            "gridcolor": "white",
            "gridwidth": 2,
            "linecolor": "white",
            "showbackground": true,
            "ticks": "",
            "zerolinecolor": "white"
           }
          },
          "shapedefaults": {
           "line": {
            "color": "#2a3f5f"
           }
          },
          "ternary": {
           "aaxis": {
            "gridcolor": "white",
            "linecolor": "white",
            "ticks": ""
           },
           "baxis": {
            "gridcolor": "white",
            "linecolor": "white",
            "ticks": ""
           },
           "bgcolor": "#E5ECF6",
           "caxis": {
            "gridcolor": "white",
            "linecolor": "white",
            "ticks": ""
           }
          },
          "title": {
           "x": 0.05
          },
          "xaxis": {
           "automargin": true,
           "gridcolor": "white",
           "linecolor": "white",
           "ticks": "",
           "title": {
            "standoff": 15
           },
           "zerolinecolor": "white",
           "zerolinewidth": 2
          },
          "yaxis": {
           "automargin": true,
           "gridcolor": "white",
           "linecolor": "white",
           "ticks": "",
           "title": {
            "standoff": 15
           },
           "zerolinecolor": "white",
           "zerolinewidth": 2
          }
         }
        },
        "updatemenus": [
         {
          "buttons": [
           {
            "args": [
             {
              "scene.annotations": [
               {
                "showarrow": false,
                "text": "O",
                "x": 0.00837641693916,
                "y": 0.37877734263575,
                "yshift": 15,
                "z": 0
               },
               {
                "showarrow": false,
                "text": "H",
                "x": -0.77687694132024,
                "y": -0.17230116617263,
                "yshift": 15,
                "z": 0
               },
               {
                "showarrow": false,
                "text": "H",
                "x": 0.76850052438107,
                "y": -0.20647617646312,
                "yshift": 15,
                "z": 0
               }
              ]
             }
            ],
            "label": "Elements",
            "method": "relayout"
           },
           {
            "args": [
             {
              "scene.annotations": [
               {
                "showarrow": false,
                "text": "O",
                "x": 0.00837641693916,
                "y": 0.37877734263575,
                "yshift": 15,
                "z": 0
               },
               {
                "showarrow": false,
                "text": "H",
                "x": -0.77687694132024,
                "y": -0.17230116617263,
                "yshift": 15,
                "z": 0
               },
               {
                "showarrow": false,
                "text": "H",
                "x": 0.76850052438107,
                "y": -0.20647617646312,
                "yshift": 15,
                "z": 0
               },
               {
                "font": {
                 "color": "steelblue"
                },
                "showarrow": false,
                "text": "0.96",
                "x": -0.38425026219054,
                "y": 0.10323808823156001,
                "yshift": 15,
                "z": 0
               },
               {
                "font": {
                 "color": "steelblue"
                },
                "showarrow": false,
                "text": "0.96",
                "x": 0.388438470660115,
                "y": 0.08615058308631501,
                "yshift": 15,
                "z": 0
               }
              ]
             }
            ],
            "label": "Elements & Distances",
            "method": "relayout"
           },
           {
            "args": [
             {
              "scene.annotations": [
               {
                "showarrow": false,
                "text": "0",
                "x": 0.00837641693916,
                "y": 0.37877734263575,
                "yshift": 15,
                "z": 0
               },
               {
                "showarrow": false,
                "text": "1",
                "x": -0.77687694132024,
                "y": -0.17230116617263,
                "yshift": 15,
                "z": 0
               },
               {
                "showarrow": false,
                "text": "2",
                "x": 0.76850052438107,
                "y": -0.20647617646312,
                "yshift": 15,
                "z": 0
               }
              ]
             }
            ],
            "label": "IDs",
            "method": "relayout"
           },
           {
            "args": [
             {
              "scene.annotations": [
               {
                "showarrow": false,
                "text": "0",
                "x": 0.00837641693916,
                "y": 0.37877734263575,
                "yshift": 15,
                "z": 0
               },
               {
                "showarrow": false,
                "text": "1",
                "x": -0.77687694132024,
                "y": -0.17230116617263,
                "yshift": 15,
                "z": 0
               },
               {
                "showarrow": false,
                "text": "2",
                "x": 0.76850052438107,
                "y": -0.20647617646312,
                "yshift": 15,
                "z": 0
               },
               {
                "font": {
                 "color": "steelblue"
                },
                "showarrow": false,
                "text": "0.96",
                "x": -0.38425026219054,
                "y": 0.10323808823156001,
                "yshift": 15,
                "z": 0
               },
               {
                "font": {
                 "color": "steelblue"
                },
                "showarrow": false,
                "text": "0.96",
                "x": 0.388438470660115,
                "y": 0.08615058308631501,
                "yshift": 15,
                "z": 0
               }
              ]
             }
            ],
            "label": "IDs & Distances",
            "method": "relayout"
           },
           {
            "args": [
             {
              "scene.annotations": [
               {
                "font": {
                 "color": "steelblue"
                },
                "showarrow": false,
                "text": "0.96",
                "x": -0.38425026219054,
                "y": 0.10323808823156001,
                "yshift": 15,
                "z": 0
               },
               {
                "font": {
                 "color": "steelblue"
                },
                "showarrow": false,
                "text": "0.96",
                "x": 0.388438470660115,
                "y": 0.08615058308631501,
                "yshift": 15,
                "z": 0
               }
              ]
             }
            ],
            "label": "Distances",
            "method": "relayout"
           },
           {
            "args": [
             {
              "scene.annotations": []
             }
            ],
            "label": "Clear",
            "method": "relayout"
           }
          ],
          "direction": "down",
          "pad": {
           "r": 10,
           "t": 10
          },
          "xanchor": "left",
          "yanchor": "top"
         }
        ]
       }
      }
     },
     "metadata": {},
     "output_type": "display_data"
    },
    {
     "name": "stdout",
     "output_type": "stream",
     "text": [
      "Molecule visualization has been displayed successfully.\n",
      "Deleted 6 documents from 'checkpoints' collection for thread_id 'ReACT_executor03bfbbd9-37c0-4acc-b905-fe426b57a043'.\n",
      "Deleted 0 documents from 'checkpoint_writes' collection for thread_id 'ReACT_executor03bfbbd9-37c0-4acc-b905-fe426b57a043'.\n",
      "Observation: The molecular geometry of H2O from the 'xtb_optimized.xyz' file has been visualized.\n",
      "Thought: The visualization of the molecular geometry of H2O has been successfully completed., \n",
      " Action: message: Objective achieved,\n",
      " Terminate: True\n",
      "Deleted 13 documents from 'checkpoints' collection for thread_id 'geometry_visualization'.\n",
      "Deleted 14 documents from 'checkpoint_writes' collection for thread_id 'geometry_visualization'.\n",
      "[geometry_visualization] Finished!\n",
      "Deleted 6 documents from 'checkpoints' collection for thread_id 'ReACT_executor76fa8196-0f07-4e0b-b3cc-505bf900f184'.\n",
      "Deleted 0 documents from 'checkpoint_writes' collection for thread_id 'ReACT_executor76fa8196-0f07-4e0b-b3cc-505bf900f184'.\n",
      "Observation: The visualization of the xTB optimized geometry of H2O has been successfully completed.\n",
      "Thought: The initial structure of H2O was generated, optimized using xTB, and visualized successfully., \n",
      " Action: message: objective achieved,\n",
      " Terminate: True\n",
      "Deleted 20 documents from 'checkpoints' collection for thread_id 'geometry_agent'.\n",
      "Deleted 14 documents from 'checkpoint_writes' collection for thread_id 'geometry_agent'.\n",
      "[geometry_agent] Finished!\n",
      "Deleted 6 documents from 'checkpoints' collection for thread_id 'ReACT_executor413715fb-869d-43df-baad-114b947da10a'.\n",
      "Deleted 0 documents from 'checkpoint_writes' collection for thread_id 'ReACT_executor413715fb-869d-43df-baad-114b947da10a'.\n",
      "Observation: The initial structure of H2O was generated, optimized, and visualized successfully.\n",
      "Thought: The visualization of the optimized geometry of H2O has been completed successfully., \n",
      " Action: message: objective achieved,\n",
      " Terminate: True\n"
     ]
    },
    {
     "data": {
      "text/plain": [
       "[AIMessage(content='Thought: I need to generate the initial structure of H2O before optimization., \\n Action: objective: Generate initial structure of H2O, input_context: Molecule SMILES: O, output: Initial structure of H2O generated.,\\n Terminate: False', additional_kwargs={}, response_metadata={}, id='4adc24ed-e341-4ec8-971d-71fb03fd4410'),\n",
       " HumanMessage(content='Observation: The initial structure of H2O was generated, optimized, and visualized successfully.', additional_kwargs={}, response_metadata={}, id='9cbce629-a8b3-44fa-a6ee-88905bfaf4f8'),\n",
       " AIMessage(content='Thought: The visualization of the optimized geometry of H2O has been completed successfully., \\n Action: message: objective achieved,\\n Terminate: True', additional_kwargs={}, response_metadata={}, id='6a805567-6ea8-448c-82b4-ca33a757a695')]"
      ]
     },
     "execution_count": 8,
     "metadata": {},
     "output_type": "execute_result"
    }
   ],
   "source": [
    "manager.stream(\"computational_chemist\",\"\"\"give me the optimized geometry of H2O and then visualize it.\"\"\")"
   ]
  },
  {
   "cell_type": "code",
   "execution_count": 21,
   "metadata": {},
   "outputs": [
    {
     "name": "stdout",
     "output_type": "stream",
     "text": [
      "Agent:  DFT_Agent556ddd12-2322-4d73-99e9-73da6e387bbc\n",
      "Thought: I understand that my role is to perform the geometry optimization and provide the optimized xyz file without reading the output file unless necessary for verification., \n",
      " Action: message: I will ensure to focus on optimizing the geometry and providing the optimized xyz file in future tasks.,\n",
      " Terminate: True\n"
     ]
    },
    {
     "data": {
      "text/plain": [
       "[AIMessage(content='Thought: I understand that my role is to perform the geometry optimization and provide the optimized xyz file without reading the output file unless necessary for verification., \\n Action: message: I will ensure to focus on optimizing the geometry and providing the optimized xyz file in future tasks.,\\n Terminate: True', additional_kwargs={}, response_metadata={}, id='80f49fee-4a16-43d8-bf0f-38d762275c18')]"
      ]
     },
     "execution_count": 21,
     "metadata": {},
     "output_type": "execute_result"
    }
   ],
   "source": [
    "manager.stream(\"DFT_Agent556ddd12-2322-4d73-99e9-73da6e387bbc\",\"\"\"You also shouldn't attempt to read the output file, when asked to optimize geometry, you optimize the geometry and provide optimized xyz file. Do you get it? \"\"\")"
   ]
  },
  {
   "cell_type": "code",
   "execution_count": null,
   "metadata": {},
   "outputs": [
    {
     "name": "stdout",
     "output_type": "stream",
     "text": [
      "Agent:  computational_chemist\n",
      "Thought: I need to transfer the xtb optimized xyz file to the HPC for DFT optimization., \n",
      " Action: objective: Transfer xtb optimized xyz file to HPC for DFT optimization, input_context: File: xtb_optimized.xyz, output: xtb optimized xyz file is transferred to HPC,\n",
      " Terminate: False\n",
      "[DFT_Agent556ddd12-2322-4d73-99e9-73da6e387bbc] ...\n",
      "Thought: I need to send the xtb_optimized.xyz file to the HPC for DFT optimization., \n",
      " Action: objective: Send file to HPC working directory, input_context: The file to send is xtb_optimized.xyz., output: The xtb_optimized.xyz file is transferred to the HPC working directory.,\n",
      " Terminate: False\n",
      "Content successfully transferred to '/u/yunhengzou/el-agente/xtb_optimized.xyz' on the remote host.\n",
      "Deleted 6 documents from 'checkpoints' collection for thread_id 'ReACT_executorc7a09a21-d3d4-483e-b892-b0d33f9df0e7'.\n",
      "Deleted 0 documents from 'checkpoint_writes' collection for thread_id 'ReACT_executorc7a09a21-d3d4-483e-b892-b0d33f9df0e7'.\n",
      "Observation: The file `xtb_optimized.xyz` has been successfully transferred to the HPC working directory and is ready for further processing.\n",
      "Thought: The xtb_optimized.xyz file is now on the HPC, and I can proceed with proposing an ORCA input file for DFT optimization., \n",
      " Action: objective: Propose content of the ORCA input file for DFT optimization, input_context: configuration: H2O, xyz filename: xtb_optimized.xyz, objective for calculation: DFT optimization using def2-TZVP basis set and PBE0 functional, output: A proposed ORCA input file content for DFT optimization of H2O.,\n",
      " Terminate: False\n",
      "Certainly! Below is the ORCA input file based on your request:\n",
      "\n",
      "```\n",
      "orca\n",
      "! PBE0 def2-TZVP Opt\n",
      "\n",
      "* xyzfile 0 1 xtb_optimized.xyz\n",
      "```\n",
      "\n",
      "This input file specifies a DFT optimization using the PBE0 functional and the def2-TZVP basis set, with the geometry provided in the `xtb_optimized.xyz` file.\n",
      "Deleted 6 documents from 'checkpoints' collection for thread_id 'ReACT_executorc7a09a21-d3d4-483e-b892-b0d33f9df0e7'.\n",
      "Deleted 0 documents from 'checkpoint_writes' collection for thread_id 'ReACT_executorc7a09a21-d3d4-483e-b892-b0d33f9df0e7'.\n",
      "Observation: The proposed ORCA input file content for DFT optimization of H2O is as follows:\n",
      "\n",
      "```\n",
      "orca\n",
      "! PBE0 def2-TZVP Opt\n",
      "\n",
      "* xyzfile 0 1 xtb_optimized.xyz\n",
      "```\n",
      "\n",
      "This input file specifies a DFT optimization using the PBE0 functional and the def2-TZVP basis set, with the geometry provided in the `xtb_optimized.xyz` file.\n",
      "Thought: I need to create the ORCA input file locally with the specified content for DFT optimization., \n",
      " Action: objective: Create ORCA input file locally, input_context: The content is for H2O DFT optimization using def2-TZVP basis set and PBE0 functional., output: The ORCA input file is created locally.,\n",
      " Terminate: False\n"
     ]
    },
    {
     "data": {
      "text/html": [
       "<pre style=\"white-space:pre;overflow-x:auto;line-height:normal;font-family:Menlo,'DejaVu Sans Mono',consolas,'Courier New',monospace\">03:09:21.118 | <span style=\"color: #d7d700; text-decoration-color: #d7d700\">WARNING</span> | langchain_experimental.utilities.python - Python REPL can execute arbitrary code. Use with caution.\n",
       "</pre>\n"
      ],
      "text/plain": [
       "03:09:21.118 | \u001b[38;5;184mWARNING\u001b[0m | langchain_experimental.utilities.python - Python REPL can execute arbitrary code. Use with caution.\n"
      ]
     },
     "metadata": {},
     "output_type": "display_data"
    },
    {
     "name": "stdout",
     "output_type": "stream",
     "text": [
      "Deleted 6 documents from 'checkpoints' collection for thread_id 'ReACT_executorc7a09a21-d3d4-483e-b892-b0d33f9df0e7'.\n",
      "Deleted 0 documents from 'checkpoint_writes' collection for thread_id 'ReACT_executorc7a09a21-d3d4-483e-b892-b0d33f9df0e7'.\n",
      "Observation: The ORCA input file for H2O DFT optimization using the def2-TZVP basis set and PBE0 functional has been created locally as `orca_input.inp`.\n",
      "Thought: I need to send the ORCA input file for DFT optimization to the HPC for execution., \n",
      " Action: objective: Send file to HPC working directory, input_context: The file to send is orca_input.inp for DFT optimization using xtb_optimized.xyz., output: The ORCA input file is transferred to the HPC working directory.,\n",
      " Terminate: False\n",
      "Content successfully transferred to '/u/yunhengzou/el-agente/orca_input.inp' on the remote host.\n",
      "Deleted 6 documents from 'checkpoints' collection for thread_id 'ReACT_executorc7a09a21-d3d4-483e-b892-b0d33f9df0e7'.\n",
      "Deleted 0 documents from 'checkpoint_writes' collection for thread_id 'ReACT_executorc7a09a21-d3d4-483e-b892-b0d33f9df0e7'.\n",
      "Observation: The ORCA input file `orca_input.inp` has been successfully transferred to the HPC working directory.\n",
      "Thought: I need to run the ORCA calculation on the HPC using the input file to perform DFT optimization of H2O., \n",
      " Action: objective: Run ORCA calculations on HPC, input_context: The input file is orca_input.inp and the output file should be orca_output.out, output: The ORCA calculation is executed and results are stored in orca_output.out,\n",
      " Terminate: False\n",
      "[ORCA_Runner] ...\n",
      "Thought: I need to run the ORCA calculation using the input file on the HPC., \n",
      " Action: objective: Execute ORCA calculation on HPC, input_context: Run ORCA with input file orca_input.inp and output to orca_output.out, output: ORCA calculation results stored in orca_output.out,\n",
      " Terminate: False\n"
     ]
    }
   ],
   "source": [
    "manager.stream(\"computational_chemist\",\"\"\"Use DFT to optimize the xtb optimized xyz and then use the dft optimized xyz file to produce energy calculation, and lastly visualize the dft optimized xyz.\"\"\")"
   ]
  },
  {
   "cell_type": "code",
   "execution_count": 4,
   "metadata": {},
   "outputs": [
    {
     "name": "stdout",
     "output_type": "stream",
     "text": [
      "Deleted: wbo\n",
      "Deleted: xtb_optimized.xyz\n",
      "Deleted: xtbopt.log\n",
      "Deleted: xtbrestart\n",
      "Deleted: xtbtopo.mol\n",
      "Deleted: rdkit_generated.xyz\n",
      "Deleted: charges\n",
      "Deleted: .xtboptok\n",
      "File not found: xtbopt.xyz\n"
     ]
    }
   ],
   "source": [
    "import os\n",
    "\n",
    "# List of files to delete\n",
    "files_to_delete = [\n",
    "    \"wbo\",\n",
    "    \"xtb_optimized.xyz\",\n",
    "    \"xtbopt.log\",\n",
    "    \"xtbrestart\",\n",
    "    \"xtbtopo.mol\",\n",
    "    \"rdkit_generated.xyz\",\n",
    "    \"charges\",\n",
    "    \".xtboptok\",\n",
    "    \"xtbopt.xyz\"\n",
    "]\n",
    "\n",
    "# Delete each file if it exists\n",
    "for file in files_to_delete:\n",
    "    try:\n",
    "        os.remove(file)\n",
    "        print(f\"Deleted: {file}\")\n",
    "    except FileNotFoundError:\n",
    "        print(f\"File not found: {file}\")\n",
    "    except Exception as e:\n",
    "        print(f\"Error deleting {file}: {e}\")"
   ]
  },
  {
   "cell_type": "code",
   "execution_count": 9,
   "metadata": {},
   "outputs": [],
   "source": [
    "manager.procedure_nodes[0].entity.clear_memory()"
   ]
  },
  {
   "cell_type": "code",
   "execution_count": 10,
   "metadata": {},
   "outputs": [
    {
     "name": "stdout",
     "output_type": "stream",
     "text": [
      "Edge from computational_chemist to geometry_agent created\n",
      "Edge from geometry_agent to geometry_generation created\n",
      "Edge from geometry_agent to geometry_optimization created\n",
      "Edge from geometry_generation to rdkit_xyz_generation created\n",
      "Edge from geometry_optimization to xtb_geometry_optimization created\n",
      "Edge from xtb_geometry_optimization to xtb_geometry_optimization created\n",
      "Edge from geometry_agent to geometry_visualization created\n",
      "Edge from geometry_visualization to visualize_xyz created\n"
     ]
    }
   ],
   "source": [
    "manager.store()"
   ]
  },
  {
   "cell_type": "code",
   "execution_count": null,
   "metadata": {},
   "outputs": [],
   "source": []
  },
  {
   "cell_type": "code",
   "execution_count": null,
   "metadata": {},
   "outputs": [],
   "source": []
  },
  {
   "cell_type": "code",
   "execution_count": null,
   "metadata": {},
   "outputs": [],
   "source": []
  },
  {
   "cell_type": "code",
   "execution_count": 15,
   "metadata": {},
   "outputs": [],
   "source": [
    "computational_chemist = manager.create_procedure_node(\n",
    "    \"computational_chemist\",\n",
    "    description=\"Acts as the central controller, delegating tasks to specialized agents for molecule analysis.\"\n",
    ")\n",
    "\n",
    "geometry_agent = manager.create_procedure_node(\n",
    "    \"geometry_agent\",\n",
    "    description=\"Responsible for geometry-related tasks, including initial structure generation and optimization.\"\n",
    ")\n",
    "\n",
    "geometry_generation_procedure = manager.create_procedure_node(\n",
    "    \"geometry_generation\",\n",
    "    description=\"Handles the initial geometry creation process and interfaces with tools like RDKit.\"\n",
    ")\n",
    "\n",
    "geometry_optimization_procedure = manager.create_procedure_node(\n",
    "    \"geometry_optimization\",\n",
    "    description=\"Optimizes molecular geometry, delegating tasks to specific optimization methods.\"\n",
    ")\n",
    "\n",
    "crest_geometry_optimization_procedure = manager.create_procedure_node(\n",
    "    \"crest_geometry_optimization\",\n",
    "    description=\"Handles optimization via CREST tools.\"\n",
    ")\n",
    "\n",
    "xtb_geometry_optimization_procedure = manager.create_procedure_node(\n",
    "    \"xtb_geometry_optimization\",\n",
    "    description=\"Handles optimization via xTB tools.\"\n",
    ")\n",
    "\n",
    "dft_geometry_optimization_procedure = manager.create_procedure_node(\n",
    "    \"dft_geometry_optimization\",\n",
    "    description=\"Further optimizes geometry using DFT methods.\"\n",
    ")\n",
    "\n",
    "dft_agent = manager.create_procedure_node(\n",
    "    \"dft_agent\",\n",
    "    description=\"Delegates specific tasks for DFT calculations, orchestrating functional, basis set, and input preparation.\"\n",
    ")\n",
    "\n",
    "functional_selector = manager.create_procedure_node(\n",
    "    \"functional_selector\",\n",
    "    description=\"Selects exchange-correlation functionals for DFT calculations.\"\n",
    ")\n",
    "\n",
    "basis_set_selector = manager.create_procedure_node(\n",
    "    \"basis_set_selector\",\n",
    "    description=\"Chooses the appropriate basis sets for DFT calculations.\"\n",
    ")\n",
    "\n",
    "input_file_generator = manager.create_procedure_node(\n",
    "    \"input_file_generator\",\n",
    "    description=\"Prepares ORCA input files for execution.\"\n",
    ")\n",
    "\n",
    "research_agent = manager.create_procedure_node(\n",
    "    \"research_agent\",\n",
    "    description=\"Performs queries to external databases to support calculations.\"\n",
    ")\n",
    "\n",
    "computation_agent = manager.create_procedure_node(\n",
    "    \"computation_agent\",\n",
    "    description=\"Connects to the DFT agent to perform calculations and link with tools like ORCA.\"\n",
    ")\n"
   ]
  },
  {
   "cell_type": "code",
   "execution_count": 16,
   "metadata": {},
   "outputs": [],
   "source": [
    "tool_rdkit_xyz_generation = manager.create_tool_node(\n",
    "    \"rdkit_xyz_generation\",\n",
    "    description=\"Generates XYZ files from SMILES strings using RDKit for 3D structure generation.\"\n",
    ")\n",
    "tool_crest_geometry_optimization = manager.create_tool_node(\n",
    "    \"crest_geometry_optimization\",\n",
    "    description=\"Optimizes molecular geometry using CREST, a semi-empirical quantum chemical optimization tool.\"\n",
    ")\n",
    "tool_xtb_geometry_optimization = manager.create_tool_node(\n",
    "    \"xtb_geometry_optimization\",\n",
    "    description=\"Optimizes molecular geometry using xTB for fast, approximate quantum calculations.\"\n",
    ")\n",
    "tool_functional_selector_tool = manager.create_tool_node(\n",
    "    \"functional_selector\",\n",
    "    description=\"Selects the appropriate functional for DFT calculations using an ML-based recommendation model.\"\n",
    ")\n",
    "tool_basis_set_selector = manager.create_tool_node(\n",
    "    \"basis_set_selector\",\n",
    "    description=\"Determines the most suitable basis set for DFT calculations based on the molecular system.\"\n",
    ")\n",
    "tool_input_file_generator = manager.create_tool_node(\n",
    "    \"input_file_generator\",\n",
    "    description=\"Prepares ORCA input files for DFT calculations, integrating selected functionals and basis sets.\"\n",
    ")\n",
    "tool_orca_executor = manager.create_tool_node(\n",
    "    \"orca_executor\",\n",
    "    description=\"Executes ORCA software for quantum mechanical calculations using prepared input files.\"\n",
    ")\n",
    "tool_database_web_search = manager.create_tool_node(\n",
    "    \"database_web_search\",\n",
    "    description=\"Queries and retrieves information from external databases or web sources.\"\n",
    ")"
   ]
  },
  {
   "cell_type": "code",
   "execution_count": 17,
   "metadata": {},
   "outputs": [
    {
     "data": {
      "text/plain": [
       "AgentNetProcedureEdge(from_=AgentNetProcedureNode(label='research_agent', description='Performs queries to external databases to support calculations.', entity=<LabMind.Agent.langgraph_react_agent_objective_output.LangGraphAgentReactExperimental object at 0x000001C733E8B6B0>), to=AgentNetToolNode(label='database_web_search', description='Queries and retrieves information from external databases or web sources.', entity=StructuredTool(name='database_web_search', description='Queries and retrieves information from external databases or web sources.', args_schema=<class 'langchain_core.utils.pydantic.database_web_search'>, func=<function database_web_search at 0x000001C72FB2D080>)))"
      ]
     },
     "execution_count": 17,
     "metadata": {},
     "output_type": "execute_result"
    }
   ],
   "source": [
    "manager.create_edge(from_=computational_chemist, to=geometry_agent)\n",
    "\n",
    "manager.create_edge(from_=computational_chemist, to=computation_agent)\n",
    "\n",
    "manager.create_edge(from_=geometry_agent, to=geometry_generation_procedure)\n",
    "\n",
    "manager.create_edge(from_=geometry_agent, to=geometry_optimization_procedure)\n",
    "\n",
    "manager.create_edge(from_=geometry_generation_procedure, to=tool_rdkit_xyz_generation)\n",
    "\n",
    "manager.create_edge(from_=geometry_optimization_procedure, to=crest_geometry_optimization_procedure)\n",
    "\n",
    "manager.create_edge(from_=geometry_optimization_procedure, to=xtb_geometry_optimization_procedure)\n",
    "\n",
    "manager.create_edge(from_=geometry_optimization_procedure, to=dft_geometry_optimization_procedure)\n",
    "\n",
    "manager.create_edge(from_=computation_agent, to=dft_agent)\n",
    "\n",
    "manager.create_edge(from_=crest_geometry_optimization_procedure, to=tool_crest_geometry_optimization)\n",
    "\n",
    "manager.create_edge(from_=xtb_geometry_optimization_procedure, to=tool_xtb_geometry_optimization)\n",
    "\n",
    "manager.create_edge(from_=dft_geometry_optimization_procedure, to=dft_agent)\n",
    "\n",
    "manager.create_edge(from_=dft_agent, to=functional_selector)\n",
    "\n",
    "manager.create_edge(from_=dft_agent, to=basis_set_selector)\n",
    "\n",
    "manager.create_edge(from_=dft_agent, to=input_file_generator)\n",
    "\n",
    "manager.create_edge(from_=dft_agent, to=tool_orca_executor)\n",
    "\n",
    "manager.create_edge(from_=functional_selector, to=research_agent)\n",
    "\n",
    "manager.create_edge(from_=functional_selector, to=tool_functional_selector_tool)\n",
    "\n",
    "manager.create_edge(from_=basis_set_selector, to=tool_basis_set_selector)\n",
    "\n",
    "manager.create_edge(from_=input_file_generator, to=tool_input_file_generator)\n",
    "\n",
    "manager.create_edge(from_=research_agent, to=tool_database_web_search)"
   ]
  },
  {
   "cell_type": "code",
   "execution_count": null,
   "metadata": {},
   "outputs": [],
   "source": [
    "manager.store()"
   ]
  },
  {
   "cell_type": "code",
   "execution_count": 19,
   "metadata": {},
   "outputs": [
    {
     "name": "stdout",
     "output_type": "stream",
     "text": [
      "Node computational_chemist connected\n",
      "Node geometry_agent connected\n",
      "Node geometry_generation connected\n",
      "Node geometry_optimization connected\n",
      "Node crest_geometry_optimization connected\n",
      "Node xtb_geometry_optimization connected\n",
      "Node dft_geometry_optimization connected\n",
      "Node dft_agent connected\n",
      "Node functional_selector connected\n",
      "Node basis_set_selector connected\n",
      "Node input_file_generator connected\n",
      "Node research_agent connected\n",
      "Node computation_agent connected\n",
      "Compilation complete\n"
     ]
    }
   ],
   "source": [
    "manager.compile()"
   ]
  },
  {
   "cell_type": "code",
   "execution_count": 21,
   "metadata": {},
   "outputs": [
    {
     "name": "stdout",
     "output_type": "stream",
     "text": [
      "Thought: I need to generate the initial structure for the benzene molecule from its SMILES representation., \n",
      " Action: objective: Generate initial molecular structure from SMILES, input_context: SMILES C1=CC=CC=C1, output: A molecular structure representation of benzene,\n",
      " Terminate: False\n",
      "Deleted 10 documents from 'checkpoints' collection for thread_id 'ReACT_executor6bf27132-0324-4836-9d70-ec804aa1166b'.\n",
      "Deleted 19 documents from 'checkpoint_writes' collection for thread_id 'ReACT_executor6bf27132-0324-4836-9d70-ec804aa1166b'.\n",
      "Observation: It seems there is a consistent issue with the request format. I will need to address this problem to proceed. Meanwhile, I can describe the structure of benzene for you.\n",
      "\n",
      "Benzene is a cyclic hydrocarbon with the molecular formula C₆H₆. It consists of six carbon atoms arranged in a hexagonal ring, with alternating single and double bonds between the carbon atoms. Each carbon atom is also bonded to a single hydrogen atom. This structure is often represented as a hexagon with a circle inside, indicating the delocalized π-electrons across the ring.\n",
      "Thought: I need to optimize the molecular structure of benzene to prepare it for energy computation., \n",
      " Action: objective: Optimize molecular structure for energy computation, input_context: Molecular structure of benzene, output: An optimized molecular structure of benzene,\n",
      " Terminate: False\n",
      "Deleted 12 documents from 'checkpoints' collection for thread_id 'ReACT_executor6bf27132-0324-4836-9d70-ec804aa1166b'.\n",
      "Deleted 24 documents from 'checkpoint_writes' collection for thread_id 'ReACT_executor6bf27132-0324-4836-9d70-ec804aa1166b'.\n",
      "Observation: I am currently experiencing technical difficulties in processing the request for optimizing the molecular structure of benzene. I will need to investigate this issue further. Please try again later or provide additional context if possible.\n",
      "Thought: I need to perform a DFT calculation to determine the ground state energy of benzene., \n",
      " Action: objective: Perform a DFT calculation to determine ground state energy, input_context: Optimized molecular structure of benzene, output: The ground state energy value of benzene,\n",
      " Terminate: False\n",
      "Thought: I need to delegate the task to the DFT agent to perform the calculation., \n",
      " Action: objective: Delegate a DFT calculation to determine the ground state energy of benzene., input_context: Use the optimized molecular structure of benzene for the calculation., output: The ground state energy of benzene is calculated.,\n",
      " Terminate: False\n",
      "Deleted 12 documents from 'checkpoints' collection for thread_id 'ReACT_executore38c6dc7-44e1-423a-b8dc-73be7aee338e'.\n",
      "Deleted 24 documents from 'checkpoint_writes' collection for thread_id 'ReACT_executore38c6dc7-44e1-423a-b8dc-73be7aee338e'.\n",
      "Observation: I apologize for the repeated errors. It seems there is a persistent issue with the request format. I will need to investigate further to resolve this. Meanwhile, if you have any other questions or need assistance with something else, feel free to let me know!\n",
      "Thought: I need to delegate the task to the DFT agent to perform the calculation., \n",
      " Action: objective: Delegate a DFT calculation to determine the ground state energy of benzene., input_context: Use the optimized molecular structure of benzene for the calculation., output: The ground state energy of benzene is calculated.,\n",
      " Terminate: False\n",
      "Deleted 12 documents from 'checkpoints' collection for thread_id 'ReACT_executore38c6dc7-44e1-423a-b8dc-73be7aee338e'.\n",
      "Deleted 24 documents from 'checkpoint_writes' collection for thread_id 'ReACT_executore38c6dc7-44e1-423a-b8dc-73be7aee338e'.\n",
      "Observation: It seems there is a persistent issue with the request format that I am unable to resolve at the moment. I recommend checking the input format or consulting the documentation for the correct usage of the DFT calculation function. If you have any other questions or need further assistance, feel free to ask!\n",
      "Thought: I need to ensure the correct format and input context for the DFT calculation request., \n",
      " Action: objective: Delegate a DFT calculation to determine the ground state energy of benzene., input_context: Use the optimized molecular structure of benzene for the calculation., output: The ground state energy of benzene is calculated.,\n",
      " Terminate: False\n",
      "Deleted 12 documents from 'checkpoints' collection for thread_id 'ReACT_executore38c6dc7-44e1-423a-b8dc-73be7aee338e'.\n",
      "Deleted 24 documents from 'checkpoint_writes' collection for thread_id 'ReACT_executore38c6dc7-44e1-423a-b8dc-73be7aee338e'.\n",
      "Observation: I apologize for the inconvenience. It seems there is a persistent issue with the request format that I am unable to resolve at the moment. Please try again later or consult with a technical expert to address this issue.\n",
      "Thought: I need to consult the documentation or a technical expert to resolve the issue with the DFT calculation request format., \n",
      " Action: message: The issue with the request format is persistent and requires consultation with documentation or a technical expert.,\n",
      " Terminate: True\n",
      "Deleted 12 documents from 'checkpoints' collection for thread_id 'computation_agentde1c4d62-63a5-4a85-8e0c-7891edc82996'.\n",
      "Deleted 31 documents from 'checkpoint_writes' collection for thread_id 'computation_agentde1c4d62-63a5-4a85-8e0c-7891edc82996'.\n",
      "Deleted 6 documents from 'checkpoints' collection for thread_id 'ReACT_executor6bf27132-0324-4836-9d70-ec804aa1166b'.\n",
      "Deleted 9 documents from 'checkpoint_writes' collection for thread_id 'ReACT_executor6bf27132-0324-4836-9d70-ec804aa1166b'.\n",
      "Observation: I apologize for the inconvenience. It seems there is a persistent issue with processing the DFT calculation request at the moment. Please try again later or consult with a technical expert to address this issue. If you have any other questions or need further assistance, feel free to ask!\n",
      "Thought: The process to determine the ground state energy of benzene is currently facing technical issues, and I cannot proceed further without resolving them., \n",
      " Action: message: The process is currently facing technical issues, and I cannot proceed further without resolving them.,\n",
      " Terminate: True\n"
     ]
    },
    {
     "data": {
      "text/plain": [
       "[AIMessage(content='Thought: I need to generate the initial structure for the benzene molecule from its SMILES representation., \\n Action: objective: Generate initial molecular structure from SMILES, input_context: SMILES C1=CC=CC=C1, output: A molecular structure representation of benzene,\\n Terminate: False', additional_kwargs={}, response_metadata={}, id='1747bbb6-1969-4823-bc2c-af397cd110eb'),\n",
       " HumanMessage(content='Observation: It seems there is a consistent issue with the request format. I will need to address this problem to proceed. Meanwhile, I can describe the structure of benzene for you.\\n\\nBenzene is a cyclic hydrocarbon with the molecular formula C₆H₆. It consists of six carbon atoms arranged in a hexagonal ring, with alternating single and double bonds between the carbon atoms. Each carbon atom is also bonded to a single hydrogen atom. This structure is often represented as a hexagon with a circle inside, indicating the delocalized π-electrons across the ring.', additional_kwargs={}, response_metadata={}, id='c567830c-a25a-44b1-b8a3-b304b3fb0f53'),\n",
       " AIMessage(content='Thought: I need to optimize the molecular structure of benzene to prepare it for energy computation., \\n Action: objective: Optimize molecular structure for energy computation, input_context: Molecular structure of benzene, output: An optimized molecular structure of benzene,\\n Terminate: False', additional_kwargs={}, response_metadata={}, id='5306144b-e8e8-461c-8f5b-7faa0d4a32eb'),\n",
       " HumanMessage(content='Observation: I am currently experiencing technical difficulties in processing the request for optimizing the molecular structure of benzene. I will need to investigate this issue further. Please try again later or provide additional context if possible.', additional_kwargs={}, response_metadata={}, id='addc9ffd-ee32-4346-882a-84338b51b4bc'),\n",
       " AIMessage(content='Thought: I need to perform a DFT calculation to determine the ground state energy of benzene., \\n Action: objective: Perform a DFT calculation to determine ground state energy, input_context: Optimized molecular structure of benzene, output: The ground state energy value of benzene,\\n Terminate: False', additional_kwargs={}, response_metadata={}, id='5c378392-dbba-4c6b-8730-3ee5ef702e8b'),\n",
       " HumanMessage(content='Observation: I apologize for the inconvenience. It seems there is a persistent issue with processing the DFT calculation request at the moment. Please try again later or consult with a technical expert to address this issue. If you have any other questions or need further assistance, feel free to ask!', additional_kwargs={}, response_metadata={}, id='68ca825d-e839-4e68-8dad-1da259ad0f6d'),\n",
       " AIMessage(content='Thought: The process to determine the ground state energy of benzene is currently facing technical issues, and I cannot proceed further without resolving them., \\n Action: message: The process is currently facing technical issues, and I cannot proceed further without resolving them.,\\n Terminate: True', additional_kwargs={}, response_metadata={}, id='1f341ec3-9233-44c4-8af3-c590788f04fb')]"
      ]
     },
     "execution_count": 21,
     "metadata": {},
     "output_type": "execute_result"
    }
   ],
   "source": [
    "manager.procedure_nodes[0].stream(\"generate the ground state energy for SMILES C1=CC=CC=C1\")"
   ]
  }
 ],
 "metadata": {
  "kernelspec": {
   "display_name": "AgentNet",
   "language": "python",
   "name": "python3"
  },
  "language_info": {
   "codemirror_mode": {
    "name": "ipython",
    "version": 3
   },
   "file_extension": ".py",
   "mimetype": "text/x-python",
   "name": "python",
   "nbconvert_exporter": "python",
   "pygments_lexer": "ipython3",
   "version": "3.12.7"
  }
 },
 "nbformat": 4,
 "nbformat_minor": 2
}
