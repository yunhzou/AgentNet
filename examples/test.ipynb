{
 "cells": [
  {
   "cell_type": "code",
   "execution_count": 1,
   "metadata": {},
   "outputs": [],
   "source": [
    "%load_ext autoreload\n",
    "%autoreload 2\n"
   ]
  },
  {
   "cell_type": "code",
   "execution_count": 2,
   "metadata": {},
   "outputs": [
    {
     "name": "stdout",
     "output_type": "stream",
     "text": [
      "credentials.json-drive-v3-(['https://www.googleapis.com/auth/drive'],)\n",
      "['https://www.googleapis.com/auth/drive']\n",
      "drive service created successfully\n",
      "Pinged your deployment. You successfully connected to MongoDB!\n"
     ]
    }
   ],
   "source": [
    "from AgentNet import AgentNetManager"
   ]
  },
  {
   "cell_type": "code",
   "execution_count": 3,
   "metadata": {},
   "outputs": [],
   "source": [
    "manager = AgentNetManager(project=\"AgentNet\")"
   ]
  },
  {
   "cell_type": "code",
   "execution_count": 4,
   "metadata": {},
   "outputs": [
    {
     "name": "stdout",
     "output_type": "stream",
     "text": [
      "Node numeric_operation connected\n",
      "Node web_researcher connected\n",
      "Node web_search connected\n",
      "Node read_web_page connected\n",
      "Node router_agent connected\n",
      "Compilation complete\n"
     ]
    }
   ],
   "source": [
    "manager.compile()"
   ]
  },
  {
   "cell_type": "code",
   "execution_count": 5,
   "metadata": {},
   "outputs": [
    {
     "data": {
      "text/plain": [
       "[AgentNetProcedureNode(label='numeric_operation', description='Do any numerical operation', entity=<LabMind.Agent.langgraph_react_agent_objective_output.LangGraphAgentReactExperimental object at 0x0000026EF473CE90>),\n",
       " AgentNetProcedureNode(label='web_researcher', description='Search the web for more information, read the web url for more details', entity=<LabMind.Agent.langgraph_react_agent_objective_output.LangGraphAgentReactExperimental object at 0x0000026EFC0BAC30>),\n",
       " AgentNetProcedureNode(label='web_search', description='Search the web for more information, provide url and their details', entity=<LabMind.Agent.langgraph_react_agent_objective_output.LangGraphAgentReactExperimental object at 0x0000026EFC51D6D0>),\n",
       " AgentNetProcedureNode(label='read_web_page', description='Read the url and provide key information from the web page', entity=<LabMind.Agent.langgraph_react_agent_objective_output.LangGraphAgentReactExperimental object at 0x0000026EFCE12DB0>),\n",
       " AgentNetProcedureNode(label='router_agent', description='Router agent, You propose a agent to be used for the current task. For example, when the user ask to do math question, you should mention find math expert to work on <question>. You must follow this rule ', entity=<LabMind.Agent.langgraph_react_agent_objective_output.LangGraphAgentReactExperimental object at 0x0000026EFCE66240>)]"
      ]
     },
     "execution_count": 5,
     "metadata": {},
     "output_type": "execute_result"
    }
   ],
   "source": [
    "manager.procedure_nodes"
   ]
  },
  {
   "cell_type": "code",
   "execution_count": 6,
   "metadata": {},
   "outputs": [],
   "source": [
    "agent = manager.procedure_nodes[4]"
   ]
  },
  {
   "cell_type": "code",
   "execution_count": 7,
   "metadata": {},
   "outputs": [
    {
     "name": "stdout",
     "output_type": "stream",
     "text": [
      "Thought: I need to perform a mathematical operation to calculate 3457983475*2394+234., \n",
      " Action: objective: Perform a mathematical operation to calculate the expression, input_context: Calculate 3457983475*2394+234, output: A computed numerical value,\n",
      " Terminate: False\n",
      "Thought: I need to perform a multiplication followed by an addition to solve the expression., \n",
      " Action: objective: Perform a mathematical multiplication calculation, input_context: 3457983475 multiplied by 2394, output: a computed numerical value,\n",
      " Terminate: False\n",
      "Deleted 6 documents from 'checkpoints' collection for thread_id 'ReACT_executor7eaa5794-bb1c-4e7c-952c-cb65e0cdadbe'.\n",
      "Deleted 9 documents from 'checkpoint_writes' collection for thread_id 'ReACT_executor7eaa5794-bb1c-4e7c-952c-cb65e0cdadbe'.\n",
      "Observation: The result of multiplying 3,457,983,475 by 2,394 is 8,278,412,439,150.\n",
      "Thought: I need to add 234 to the result of the multiplication to complete the calculation., \n",
      " Action: objective: Perform a mathematical addition calculation, input_context: 8,278,412,439,150 plus 234, output: a computed numerical value,\n",
      " Terminate: False\n",
      "Deleted 6 documents from 'checkpoints' collection for thread_id 'ReACT_executor7eaa5794-bb1c-4e7c-952c-cb65e0cdadbe'.\n",
      "Deleted 9 documents from 'checkpoint_writes' collection for thread_id 'ReACT_executor7eaa5794-bb1c-4e7c-952c-cb65e0cdadbe'.\n",
      "Observation: The result of adding 8,278,412,439,150 and 234 is 8,278,412,439,384.\n",
      "Thought: The final result of the expression is obtained., \n",
      " Action: message: objective achieved,\n",
      " Terminate: True\n",
      "Deleted 10 documents from 'checkpoints' collection for thread_id 'numeric_operation8428aa7d-ffd2-47ac-9398-3c6fcc159837'.\n",
      "Deleted 24 documents from 'checkpoint_writes' collection for thread_id 'numeric_operation8428aa7d-ffd2-47ac-9398-3c6fcc159837'.\n",
      "Deleted 6 documents from 'checkpoints' collection for thread_id 'ReACT_executor4294c303-5fc7-4deb-9cfc-0815e915bbdf'.\n",
      "Deleted 9 documents from 'checkpoint_writes' collection for thread_id 'ReACT_executor4294c303-5fc7-4deb-9cfc-0815e915bbdf'.\n",
      "Observation: The computed numerical value for the expression \\(3457983475 \\times 2394 + 234\\) is 8,278,412,439,384.\n",
      "Thought: I need to research what protein synthesis is., \n",
      " Action: objective: Search the web for information on protein synthesis, input_context: Research what is protein synthesis, output: A summary of information about protein synthesis,\n",
      " Terminate: False\n",
      "Thought: I should search the web for a detailed explanation of protein synthesis., \n",
      " Action: objective: Search the web for information on protein synthesis, input_context: protein synthesis, output: A list of web pages related to protein synthesis.,\n",
      " Terminate: False\n",
      "Thought: I should search the web for detailed information on protein synthesis., \n",
      " Action: objective: Search the web for detailed information on protein synthesis, input_context: protein synthesis, output: A collection of web pages and articles about protein synthesis,\n",
      " Terminate: False\n",
      "Deleted 6 documents from 'checkpoints' collection for thread_id 'ReACT_executor0e50c51c-c39e-4814-836c-1642470f9de7'.\n",
      "Deleted 9 documents from 'checkpoint_writes' collection for thread_id 'ReACT_executor0e50c51c-c39e-4814-836c-1642470f9de7'.\n",
      "Observation: Here is a collection of web pages and articles about protein synthesis:\n",
      "\n",
      "1. **[Protein synthesis - Definition and Examples - Biology Online](https://www.biologyonline.com/dictionary/protein-synthesis)**\n",
      "   - This page provides an in-depth review of the different steps of protein biosynthesis, starting from the gene up to the process of secretion. It covers transcription, translation, and the roles of the endoplasmic reticulum and Golgi apparatus.\n",
      "\n",
      "2. **[Physiology, Proteins - StatPearls - NCBI Bookshelf](https://www.ncbi.nlm.nih.gov/sites/books/NBK555990/)**\n",
      "   - This article discusses the initiation of protein synthesis, the role of GTP, and the differences between eukaryotic and prokaryotic ribosomal subunits.\n",
      "\n",
      "3. **[Protein Synthesis - Location, Process, Steps, & Diagram - Science Facts](https://www.sciencefacts.net/protein-synthesis.html)**\n",
      "   - This resource explains the steps of protein synthesis, including transcription and translation, and provides a flowchart of the overall process.\n",
      "\n",
      "4. **[6.4: Protein Synthesis - Biology LibreTexts](https://bio.libretexts.org/Bookshelves/Human_Biology/Book:_Human_Biology_(Wakim_and_Grewal)/06:_DNA_and_Protein_Synthesis/6.04:_Protein_Synthesis)**\n",
      "   - This page details the translation process, including the roles of mRNA, ribosomes, tRNAs, and various enzymatic factors.\n",
      "\n",
      "5. **[3.4 Protein Synthesis - Anatomy & Physiology - Open Educational Resources](https://open.oregonstate.education/aandp/chapter/3-4-protein-synthesis/)**\n",
      "   - This educational resource provides an overview of protein synthesis within the context of anatomy and physiology, including learning objectives and detailed explanations.\n",
      "\n",
      "These resources should provide you with comprehensive information on protein synthesis.\n",
      "Thought: I have gathered sufficient information on protein synthesis from various reliable sources., \n",
      " Action: message: Objective achieved,\n",
      " Terminate: True\n",
      "Deleted 8 documents from 'checkpoints' collection for thread_id 'web_search716aba0e-1e4b-4c45-904d-d604db101720'.\n",
      "Deleted 17 documents from 'checkpoint_writes' collection for thread_id 'web_search716aba0e-1e4b-4c45-904d-d604db101720'.\n",
      "Deleted 6 documents from 'checkpoints' collection for thread_id 'ReACT_executor692080fe-a872-4635-bf9e-3634ae21e482'.\n",
      "Deleted 9 documents from 'checkpoint_writes' collection for thread_id 'ReACT_executor692080fe-a872-4635-bf9e-3634ae21e482'.\n",
      "Observation: Here is a collection of web pages and articles about protein synthesis:\n",
      "\n",
      "1. **[Protein synthesis - Definition and Examples - Biology Online](https://www.biologyonline.com/dictionary/protein-synthesis)**\n",
      "   - This page provides an in-depth review of the different steps of protein biosynthesis, starting from the gene up to the process of secretion. It covers transcription, translation, and the roles of the endoplasmic reticulum and Golgi apparatus.\n",
      "\n",
      "2. **[Physiology, Proteins - StatPearls - NCBI Bookshelf](https://www.ncbi.nlm.nih.gov/sites/books/NBK555990/)**\n",
      "   - This article discusses the initiation of protein synthesis, the role of GTP, and the differences between eukaryotic and prokaryotic ribosomal subunits.\n",
      "\n",
      "3. **[Protein Synthesis - Location, Process, Steps, & Diagram - Science Facts](https://www.sciencefacts.net/protein-synthesis.html)**\n",
      "   - This resource explains the steps of protein synthesis, including transcription and translation, and provides a flowchart of the overall process.\n",
      "\n",
      "4. **[6.4: Protein Synthesis - Biology LibreTexts](https://bio.libretexts.org/Bookshelves/Human_Biology/Book:_Human_Biology_(Wakim_and_Grewal)/06:_DNA_and_Protein_Synthesis/6.04:_Protein_Synthesis)**\n",
      "   - This page details the translation process, including the roles of mRNA, ribosomes, tRNAs, and various enzymatic factors.\n",
      "\n",
      "5. **[3.4 Protein Synthesis - Anatomy & Physiology - Open Educational Resources](https://open.oregonstate.education/aandp/chapter/3-4-protein-synthesis/)**\n",
      "   - This educational resource provides an overview of protein synthesis within the context of anatomy and physiology, including learning objectives and detailed explanations.\n",
      "\n",
      "These resources should provide you with comprehensive information on protein synthesis.\n",
      "Thought: I should read the first web page for a detailed explanation of protein synthesis., \n",
      " Action: objective: Read the web page for detailed information on protein synthesis, input_context: https://www.biologyonline.com/dictionary/protein-synthesis, output: Key information about the steps and processes involved in protein synthesis.,\n",
      " Terminate: False\n",
      "Thought: I need to read the webpage to gather information about protein synthesis., \n",
      " Action: objective: Read the webpage to extract key information about protein synthesis, input_context: The URL provided is https://www.biologyonline.com/dictionary/protein-synthesis, output: Key information about protein synthesis from the webpage,\n",
      " Terminate: False\n",
      "Deleted 6 documents from 'checkpoints' collection for thread_id 'ReACT_executor05c5e756-4213-452c-8577-d88e82dc5d1b'.\n",
      "Deleted 9 documents from 'checkpoint_writes' collection for thread_id 'ReACT_executor05c5e756-4213-452c-8577-d88e82dc5d1b'.\n",
      "Observation: Here is the key information about protein synthesis from the webpage:\n",
      "\n",
      "1. **Definition**: Protein synthesis is the process of creating protein molecules. It involves amino acid synthesis, transcription, translation, and post-translational events.\n",
      "\n",
      "2. **Process Overview**:\n",
      "   - **Transcription**: The mRNA template is transcribed from DNA. This occurs in the nucleus in eukaryotes and in the cytoplasm in prokaryotes.\n",
      "   - **Translation**: The mRNA is translated into a protein molecule with a specific sequence of amino acids. This occurs in the cytoplasm at the ribosomes.\n",
      "   - **Post-translation**: Newly formed proteins undergo further processing, such as proteolysis, post-translational modification, and protein folding.\n",
      "\n",
      "3. **Differences Between Prokaryotic and Eukaryotic Protein Synthesis**:\n",
      "   - In prokaryotes, transcription and translation occur simultaneously in the cytoplasm.\n",
      "   - In eukaryotes, transcription occurs in the nucleus, and the mRNA is processed before being translated in the cytoplasm.\n",
      "\n",
      "4. **Genetic Code**: Codons in mRNA specify particular amino acids. The genetic code is universal and used by all living organisms to translate mRNA into proteins.\n",
      "\n",
      "5. **RNA Types**:\n",
      "   - **mRNA (messenger RNA)**: Carries the genetic code from DNA to the ribosome.\n",
      "   - **tRNA (transfer RNA)**: Transfers specific amino acids to the ribosome during protein synthesis.\n",
      "   - **rRNA (ribosomal RNA)**: A component of ribosomes, facilitating the translation process.\n",
      "\n",
      "6. **Steps of Protein Biosynthesis**:\n",
      "   - **Transcription**: Initiation, promoter escape, elongation, and termination.\n",
      "   - **Translation**: Activation, initiation, elongation, and termination.\n",
      "\n",
      "7. **Post-translation Events**: Include proteolysis, protein folding, and various modifications to ensure proper cellular localization and function.\n",
      "\n",
      "This comprehensive overview provides a detailed understanding of the protein synthesis process, highlighting the roles of different RNA types and the differences between prokaryotic and eukaryotic systems.\n",
      "Thought: The key information about protein synthesis has been successfully extracted from the webpage., \n",
      " Action: message: Objective achieved,\n",
      " Terminate: True\n",
      "Deleted 8 documents from 'checkpoints' collection for thread_id 'read_web_page12130f30-f6b7-49dd-bd38-583c083db1a4'.\n",
      "Deleted 17 documents from 'checkpoint_writes' collection for thread_id 'read_web_page12130f30-f6b7-49dd-bd38-583c083db1a4'.\n",
      "Deleted 6 documents from 'checkpoints' collection for thread_id 'ReACT_executor692080fe-a872-4635-bf9e-3634ae21e482'.\n",
      "Deleted 9 documents from 'checkpoint_writes' collection for thread_id 'ReACT_executor692080fe-a872-4635-bf9e-3634ae21e482'.\n",
      "Observation: Here is the key information about protein synthesis from the webpage:\n",
      "\n",
      "1. **Definition**: Protein synthesis is the process of creating protein molecules. It involves amino acid synthesis, transcription, translation, and post-translational events.\n",
      "\n",
      "2. **Process Overview**:\n",
      "   - **Transcription**: The mRNA template is transcribed from DNA. This occurs in the nucleus in eukaryotes and in the cytoplasm in prokaryotes.\n",
      "   - **Translation**: The mRNA is translated into a protein molecule with a specific sequence of amino acids. This occurs in the cytoplasm at the ribosomes.\n",
      "   - **Post-translation**: Newly formed proteins undergo further processing, such as proteolysis, post-translational modification, and protein folding.\n",
      "\n",
      "3. **Differences Between Prokaryotic and Eukaryotic Protein Synthesis**:\n",
      "   - In prokaryotes, transcription and translation occur simultaneously in the cytoplasm.\n",
      "   - In eukaryotes, transcription occurs in the nucleus, and the mRNA is processed before being translated in the cytoplasm.\n",
      "\n",
      "4. **Genetic Code**: Codons in mRNA specify particular amino acids. The genetic code is universal and used by all living organisms to translate mRNA into proteins.\n",
      "\n",
      "5. **RNA Types**:\n",
      "   - **mRNA (messenger RNA)**: Carries the genetic code from DNA to the ribosome.\n",
      "   - **tRNA (transfer RNA)**: Transfers specific amino acids to the ribosome during protein synthesis.\n",
      "   - **rRNA (ribosomal RNA)**: A component of ribosomes, facilitating the translation process.\n",
      "\n",
      "6. **Steps of Protein Biosynthesis**:\n",
      "   - **Transcription**: Initiation, promoter escape, elongation, and termination.\n",
      "   - **Translation**: Activation, initiation, elongation, and termination.\n",
      "\n",
      "7. **Post-translation Events**: Include proteolysis, protein folding, and various modifications to ensure proper cellular localization and function.\n",
      "\n",
      "This comprehensive overview provides a detailed understanding of the protein synthesis process, highlighting the roles of different RNA types and the differences between prokaryotic and eukaryotic systems.\n",
      "Thought: I have gathered detailed information about protein synthesis, including its definition, process, and differences between prokaryotic and eukaryotic systems., \n",
      " Action: message: Objective achieved,\n",
      " Terminate: True\n",
      "Deleted 10 documents from 'checkpoints' collection for thread_id 'web_researcher600b2264-88c2-4246-bf8f-12f88df59885'.\n",
      "Deleted 24 documents from 'checkpoint_writes' collection for thread_id 'web_researcher600b2264-88c2-4246-bf8f-12f88df59885'.\n",
      "Deleted 6 documents from 'checkpoints' collection for thread_id 'ReACT_executor4294c303-5fc7-4deb-9cfc-0815e915bbdf'.\n",
      "Deleted 9 documents from 'checkpoint_writes' collection for thread_id 'ReACT_executor4294c303-5fc7-4deb-9cfc-0815e915bbdf'.\n",
      "Observation: Protein synthesis is the process of creating protein molecules, involving several key stages: amino acid synthesis, transcription, translation, and post-translational events. Here's a summary of the process:\n",
      "\n",
      "1. **Transcription**: This is the first step where the mRNA template is transcribed from DNA. In eukaryotes, this occurs in the nucleus, while in prokaryotes, it takes place in the cytoplasm.\n",
      "\n",
      "2. **Translation**: The mRNA is translated into a protein molecule with a specific sequence of amino acids. This process occurs in the cytoplasm at the ribosomes.\n",
      "\n",
      "3. **Post-translation**: Newly formed proteins undergo further processing, such as proteolysis, post-translational modification, and protein folding to become fully functional.\n",
      "\n",
      "**Differences Between Prokaryotic and Eukaryotic Protein Synthesis**:\n",
      "- In prokaryotes, transcription and translation occur simultaneously in the cytoplasm.\n",
      "- In eukaryotes, transcription occurs in the nucleus, and the mRNA is processed before being translated in the cytoplasm.\n",
      "\n",
      "**Genetic Code**: Codons in mRNA specify particular amino acids, and this genetic code is universal across all living organisms.\n",
      "\n",
      "**RNA Types**:\n",
      "- **mRNA (messenger RNA)**: Carries the genetic code from DNA to the ribosome.\n",
      "- **tRNA (transfer RNA)**: Transfers specific amino acids to the ribosome during protein synthesis.\n",
      "- **rRNA (ribosomal RNA)**: A component of ribosomes, facilitating the translation process.\n",
      "\n",
      "**Steps of Protein Biosynthesis**:\n",
      "- **Transcription**: Includes initiation, promoter escape, elongation, and termination.\n",
      "- **Translation**: Involves activation, initiation, elongation, and termination.\n",
      "\n",
      "**Post-translation Events**: These include proteolysis, protein folding, and various modifications to ensure proper cellular localization and function.\n",
      "\n",
      "This overview provides a detailed understanding of the protein synthesis process, highlighting the roles of different RNA types and the differences between prokaryotic and eukaryotic systems.\n",
      "Thought: I have gathered the necessary information about protein synthesis., \n",
      " Action: message: Objective achieved,\n",
      " Terminate: True\n"
     ]
    },
    {
     "data": {
      "text/plain": [
       "[AIMessage(content='Thought: I need to perform a mathematical operation to calculate 3457983475*2394+234., \\n Action: objective: Perform a mathematical operation to calculate the expression, input_context: Calculate 3457983475*2394+234, output: A computed numerical value,\\n Terminate: False', additional_kwargs={}, response_metadata={}, id='b9e29fe2-ae0d-4ca2-99cb-52f6c7783e7f'),\n",
       " HumanMessage(content='Observation: The computed numerical value for the expression \\\\(3457983475 \\\\times 2394 + 234\\\\) is 8,278,412,439,384.', additional_kwargs={}, response_metadata={}, id='2a62f89a-4451-4ef5-8629-b433bfa3f19f'),\n",
       " AIMessage(content='Thought: I need to research what protein synthesis is., \\n Action: objective: Search the web for information on protein synthesis, input_context: Research what is protein synthesis, output: A summary of information about protein synthesis,\\n Terminate: False', additional_kwargs={}, response_metadata={}, id='d68f78d4-60b1-48af-bd74-b656024b8c09'),\n",
       " HumanMessage(content=\"Observation: Protein synthesis is the process of creating protein molecules, involving several key stages: amino acid synthesis, transcription, translation, and post-translational events. Here's a summary of the process:\\n\\n1. **Transcription**: This is the first step where the mRNA template is transcribed from DNA. In eukaryotes, this occurs in the nucleus, while in prokaryotes, it takes place in the cytoplasm.\\n\\n2. **Translation**: The mRNA is translated into a protein molecule with a specific sequence of amino acids. This process occurs in the cytoplasm at the ribosomes.\\n\\n3. **Post-translation**: Newly formed proteins undergo further processing, such as proteolysis, post-translational modification, and protein folding to become fully functional.\\n\\n**Differences Between Prokaryotic and Eukaryotic Protein Synthesis**:\\n- In prokaryotes, transcription and translation occur simultaneously in the cytoplasm.\\n- In eukaryotes, transcription occurs in the nucleus, and the mRNA is processed before being translated in the cytoplasm.\\n\\n**Genetic Code**: Codons in mRNA specify particular amino acids, and this genetic code is universal across all living organisms.\\n\\n**RNA Types**:\\n- **mRNA (messenger RNA)**: Carries the genetic code from DNA to the ribosome.\\n- **tRNA (transfer RNA)**: Transfers specific amino acids to the ribosome during protein synthesis.\\n- **rRNA (ribosomal RNA)**: A component of ribosomes, facilitating the translation process.\\n\\n**Steps of Protein Biosynthesis**:\\n- **Transcription**: Includes initiation, promoter escape, elongation, and termination.\\n- **Translation**: Involves activation, initiation, elongation, and termination.\\n\\n**Post-translation Events**: These include proteolysis, protein folding, and various modifications to ensure proper cellular localization and function.\\n\\nThis overview provides a detailed understanding of the protein synthesis process, highlighting the roles of different RNA types and the differences between prokaryotic and eukaryotic systems.\", additional_kwargs={}, response_metadata={}, id='16a7ff79-7608-4693-a2ea-852cb85f2b02'),\n",
       " AIMessage(content='Thought: I have gathered the necessary information about protein synthesis., \\n Action: message: Objective achieved,\\n Terminate: True', additional_kwargs={}, response_metadata={}, id='c995c01c-9402-4fbb-b0c0-34fcf07cd370')]"
      ]
     },
     "execution_count": 7,
     "metadata": {},
     "output_type": "execute_result"
    }
   ],
   "source": [
    "agent.stream(\"calculate 3457983475*2394+234 and then research what is protein synthesis\")"
   ]
  },
  {
   "cell_type": "code",
   "execution_count": 8,
   "metadata": {},
   "outputs": [
    {
     "data": {
      "text/plain": [
       "8278412439384"
      ]
     },
     "execution_count": 8,
     "metadata": {},
     "output_type": "execute_result"
    }
   ],
   "source": [
    "3457983475*2394+234"
   ]
  },
  {
   "cell_type": "code",
   "execution_count": 9,
   "metadata": {},
   "outputs": [
    {
     "name": "stdout",
     "output_type": "stream",
     "text": [
      "Deleted 8 documents from 'checkpoints' collection for thread_id 'router_agent42b1c288-e528-4c43-918b-6073c5403971'.\n",
      "Deleted 17 documents from 'checkpoint_writes' collection for thread_id 'router_agent42b1c288-e528-4c43-918b-6073c5403971'.\n"
     ]
    }
   ],
   "source": [
    "agent.entity.clear_memory()"
   ]
  },
  {
   "cell_type": "code",
   "execution_count": 13,
   "metadata": {},
   "outputs": [
    {
     "name": "stdout",
     "output_type": "stream",
     "text": [
      "Node with label numeric_operation already exists\n",
      "Node with label web_researcher already exists\n",
      "Node with label web_search already exists\n",
      "Node with label read_web_page already exists\n",
      "Node with label router_agent already exists\n",
      "Node with label addition already exists\n",
      "Node with label multiplication already exists\n",
      "Node with label read_webpage already exists\n",
      "Node with label web_search already exists\n",
      "Edge from numeric_operation to addition already exists\n",
      "Edge from numeric_operation to multiplication already exists\n",
      "Edge from web_researcher to web_search already exists\n",
      "Edge from web_researcher to read_web_page already exists\n",
      "Edge from read_web_page to read_webpage already exists\n",
      "Edge from router_agent to numeric_operation already exists\n",
      "Edge from router_agent to web_researcher already exists\n",
      "Edge from web_search to web_search already exists\n",
      "Edge from numeric_operation to python_repl created\n"
     ]
    }
   ],
   "source": [
    "manager.store()"
   ]
  },
  {
   "cell_type": "code",
   "execution_count": null,
   "metadata": {},
   "outputs": [],
   "source": [
    "# inference you can have ensemble, connections can be based on probability\n",
    "# connection fine tune stage, a fine tunner look at the node and decide if there should be intermediate procedure node. usually happen when the node is connected to too many tool node and need to be refactored to ensure functionality "
   ]
  },
  {
   "cell_type": "code",
   "execution_count": null,
   "metadata": {},
   "outputs": [],
   "source": [
    "# create a tool that can create tool and procedure "
   ]
  },
  {
   "cell_type": "code",
   "execution_count": null,
   "metadata": {},
   "outputs": [],
   "source": [
    "# Learning: agent that use tools should be react\n",
    "# Routers must know the tool and route the context instead of propose actions "
   ]
  },
  {
   "cell_type": "code",
   "execution_count": null,
   "metadata": {},
   "outputs": [],
   "source": [
    "# Agent should also understand the input needed. Learn some policy along the way of what is needed for it to function "
   ]
  }
 ],
 "metadata": {
  "kernelspec": {
   "display_name": "AgentNet",
   "language": "python",
   "name": "python3"
  },
  "language_info": {
   "codemirror_mode": {
    "name": "ipython",
    "version": 3
   },
   "file_extension": ".py",
   "mimetype": "text/x-python",
   "name": "python",
   "nbconvert_exporter": "python",
   "pygments_lexer": "ipython3",
   "version": "3.12.7"
  }
 },
 "nbformat": 4,
 "nbformat_minor": 2
}
