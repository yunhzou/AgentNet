{
 "cells": [
  {
   "cell_type": "code",
   "execution_count": 1,
   "metadata": {},
   "outputs": [
    {
     "name": "stdout",
     "output_type": "stream",
     "text": [
      "Pinged your deployment. You successfully connected to MongoDB!\n"
     ]
    }
   ],
   "source": [
    "from AgentNet.Agent import LangGraphAgentCritic"
   ]
  },
  {
   "cell_type": "code",
   "execution_count": 2,
   "metadata": {},
   "outputs": [],
   "source": [
    "critic_agent =LangGraphAgentCritic(model=\"gpt-4o\",session_id=\"criticagent_test\")"
   ]
  },
  {
   "cell_type": "code",
   "execution_count": null,
   "metadata": {},
   "outputs": [],
   "source": [
    "result = critic_agent.invoke_return_state(\"\"\"\n",
    "\n",
    "Task Objective: Generate initial structure of H2O\n",
    "\n",
    "Observation: \n",
    "Used Tool: RDKIT\n",
    "Observation: The optimization process requires you to manually delete the 'xtb_optimized.xyz' file from your directory to avoid conflicts. Once you've done that, you can retry the optimization.\n",
    "\"\"\")"
   ]
  },
  {
   "cell_type": "code",
   "execution_count": 10,
   "metadata": {},
   "outputs": [
    {
     "data": {
      "text/plain": [
       "\"The task is to generate the initial structure of H2O before optimization. The observation indicates that the initial structure of H2O was generated using the SMILES notation 'O', which is correct for water (H2O). However, the observation also mentions a step related to optimization, specifically the need to delete a file named 'xtb_optimized.xyz' to avoid conflicts during optimization. This suggests that the initial structure generation was successful, but there is an additional step required for optimization. Since the task was only to generate the initial structure, and this was achieved, the task is considered successful.\""
      ]
     },
     "execution_count": 10,
     "metadata": {},
     "output_type": "execute_result"
    }
   ],
   "source": [
    "result[\"critic\"]"
   ]
  },
  {
   "cell_type": "code",
   "execution_count": 11,
   "metadata": {},
   "outputs": [
    {
     "data": {
      "text/plain": [
       "True"
      ]
     },
     "execution_count": 11,
     "metadata": {},
     "output_type": "execute_result"
    }
   ],
   "source": [
    "result[\"success\"]"
   ]
  },
  {
   "cell_type": "code",
   "execution_count": 12,
   "metadata": {},
   "outputs": [
    {
     "name": "stdout",
     "output_type": "stream",
     "text": [
      "Deleted 4 documents from 'checkpoints' collection for thread_id 'criticagent_test'.\n",
      "Deleted 0 documents from 'checkpoint_writes' collection for thread_id 'criticagent_test'.\n"
     ]
    }
   ],
   "source": [
    "critic_agent.clear_memory()"
   ]
  },
  {
   "cell_type": "code",
   "execution_count": null,
   "metadata": {},
   "outputs": [],
   "source": []
  },
  {
   "cell_type": "code",
   "execution_count": null,
   "metadata": {},
   "outputs": [],
   "source": []
  },
  {
   "cell_type": "code",
   "execution_count": null,
   "metadata": {},
   "outputs": [],
   "source": []
  },
  {
   "cell_type": "code",
   "execution_count": null,
   "metadata": {},
   "outputs": [],
   "source": []
  }
 ],
 "metadata": {
  "kernelspec": {
   "display_name": "AgentNet",
   "language": "python",
   "name": "python3"
  },
  "language_info": {
   "codemirror_mode": {
    "name": "ipython",
    "version": 3
   },
   "file_extension": ".py",
   "mimetype": "text/x-python",
   "name": "python",
   "nbconvert_exporter": "python",
   "pygments_lexer": "ipython3",
   "version": "3.12.7"
  }
 },
 "nbformat": 4,
 "nbformat_minor": 2
}
